{
  "cells": [
    {
      "cell_type": "markdown",
      "metadata": {
        "id": "1necVmoSqcWm"
      },
      "source": [
        "## **Import Library**"
      ]
    },
    {
      "cell_type": "markdown",
      "metadata": {
        "id": "8tjF-LqimrnO"
      },
      "source": [
        "Import semua library yang dibutuhkan untuk menganalisa dataset, dimana dalam Chatbot kali ini kami menggunakan metode Deep Learning, yaitu Neural Network. Selain itu kami juga menggunakan model Long Short Term Memory (LSTM) dalam pengolahan teks, Chatbot dll. Library yang kami gunakan yaitu NumPy untuk komputasi matematika, Matplotlib untuk visualisasi model data, Natural Language Toolkit atau NLTK untuk pengolahan teks, Pandas untuk membaca data, dan library lainnya."
      ]
    },
    {
      "cell_type": "code",
      "execution_count": null,
      "metadata": {
        "id": "sPdVlPqn6_ty"
      },
      "outputs": [],
      "source": [
        "import json\n",
        "import nltk\n",
        "import time\n",
        "import random\n",
        "import string\n",
        "import pickle\n",
        "import numpy as np\n",
        "import pandas as pd\n",
        "import tensorflow as tf\n",
        "import IPython.display as ipd\n",
        "import matplotlib.pyplot as plt\n",
        "from io import BytesIO\n",
        "from nltk.stem import WordNetLemmatizer\n",
        "from tensorflow.keras.models import Model\n",
        "from tensorflow.keras.utils import plot_model\n",
        "from sklearn.preprocessing import LabelEncoder\n",
        "from tensorflow.keras.preprocessing.text import Tokenizer\n",
        "from tensorflow.keras.layers import Input, Embedding, LSTM\n",
        "from tensorflow.keras.preprocessing.sequence import pad_sequences\n",
        "from tensorflow.keras.layers import Flatten, Dense, GlobalMaxPool1D\n",
        "from keras.layers import Dense, SimpleRNN\n",
        "from keras.layers import Dense, GRU"
      ]
    },
    {
      "cell_type": "markdown",
      "metadata": {
        "id": "i6YZJn-Km8FC"
      },
      "source": [
        "## **Download NLTK Package**"
      ]
    },
    {
      "cell_type": "markdown",
      "source": [
        "Natural Language Toolkit (NLTK) adalah software open source python yang mendukung pengembangan NLP. Library NLTK merupakan tools NLP standar yang dikemabangkan untuk penelitian dan pendidikan."
      ],
      "metadata": {
        "id": "Jzdzh0ZkpUkV"
      }
    },
    {
      "cell_type": "code",
      "execution_count": null,
      "metadata": {
        "id": "Ou6UVJqQ7CXC",
        "colab": {
          "base_uri": "https://localhost:8080/"
        },
        "outputId": "c36c477d-f88f-4b19-b0c9-6276fb6c7255"
      },
      "outputs": [
        {
          "output_type": "stream",
          "name": "stderr",
          "text": [
            "[nltk_data] Downloading package punkt to /root/nltk_data...\n",
            "[nltk_data]   Package punkt is already up-to-date!\n",
            "[nltk_data] Downloading package wordnet to /root/nltk_data...\n",
            "[nltk_data]   Package wordnet is already up-to-date!\n",
            "[nltk_data] Downloading package omw-1.4 to /root/nltk_data...\n",
            "[nltk_data]   Package omw-1.4 is already up-to-date!\n"
          ]
        },
        {
          "output_type": "execute_result",
          "data": {
            "text/plain": [
              "True"
            ]
          },
          "metadata": {},
          "execution_count": 111
        }
      ],
      "source": [
        "# Package sentence tokenizer\n",
        "nltk.download('punkt')\n",
        "# Package lemmatization\n",
        "nltk.download('wordnet')\n",
        "# Package multilingual wordnet data\n",
        "nltk.download('omw-1.4')"
      ]
    },
    {
      "cell_type": "markdown",
      "metadata": {
        "id": "P-WOj9sLqqv8"
      },
      "source": [
        "## **Load Dataset JSON**"
      ]
    },
    {
      "cell_type": "markdown",
      "metadata": {
        "id": "zhiKCZS7nPlA"
      },
      "source": [
        "Setelah import library, tahapan selanjutnya adalah me-load dataset yang telah disediakan. Dataset yang digunakan berupa format **.json** yang sangat cocok untuk membuat model Chatbot.\n",
        "\n",
        "Data Json merupakan data yang termasuk dalam *semi structured* yang dimana data ini menampung beberapa bagian data seperti **tag**, **pattern**, **context**, dan **response**.\n"
      ]
    },
    {
      "cell_type": "code",
      "source": [
        "from google.colab import drive\n",
        "drive.mount('/content/drive')"
      ],
      "metadata": {
        "colab": {
          "base_uri": "https://localhost:8080/"
        },
        "id": "OoSPV4K_GpG7",
        "outputId": "b0ff9ae9-c525-403f-d8e4-81ee7821643c"
      },
      "execution_count": null,
      "outputs": [
        {
          "output_type": "stream",
          "name": "stdout",
          "text": [
            "Drive already mounted at /content/drive; to attempt to forcibly remount, call drive.mount(\"/content/drive\", force_remount=True).\n"
          ]
        }
      ]
    },
    {
      "cell_type": "code",
      "execution_count": null,
      "metadata": {
        "id": "XHFRbBmP7FOE"
      },
      "outputs": [],
      "source": [
        "# Importing the dataset\n",
        "with open ('/content/drive/MyDrive/Colab Notebooks/STYLEBOT/dataset/chatbot.json') as content:\n",
        "  data1 = json.load(content)\n",
        "tags = []\n",
        "inputs = []\n",
        "responses = {}\n",
        "words = []\n",
        "classes = []\n",
        "documents = []\n",
        "ignore_words = ['?', '!']\n",
        "\n",
        "for intent in data1['intents']:\n",
        "  responses[intent['tag']]=intent['responses']\n",
        "  for lines in intent['patterns']:\n",
        "    inputs.append(lines)\n",
        "    tags.append(intent['tag'])\n",
        "    for pattern in intent['patterns']:\n",
        "      w = nltk.word_tokenize(pattern)\n",
        "      words.extend(w)\n",
        "      documents.append((w, intent['tag']))\n",
        "      # add to our classes list\n",
        "      if intent['tag'] not in classes:\n",
        "        classes.append(intent['tag'])\n",
        "\n",
        "# Konversi data json ke dalam dataframe\n",
        "data = pd.DataFrame({\"patterns\":inputs, \"tags\":tags})"
      ]
    },
    {
      "cell_type": "markdown",
      "metadata": {
        "id": "C68w2Qnjqwio"
      },
      "source": [
        "## **Menampilkan Dataset**"
      ]
    },
    {
      "cell_type": "markdown",
      "source": [
        "Dataset yang kami buat terdiri dari 102 baris dan 2 kolom"
      ],
      "metadata": {
        "id": "AEKSRKdsxpjq"
      }
    },
    {
      "cell_type": "code",
      "execution_count": null,
      "metadata": {
        "id": "O1RcbpZHLcSq",
        "colab": {
          "base_uri": "https://localhost:8080/",
          "height": 424
        },
        "outputId": "426ee8a9-171f-4185-de96-11c3e42b7bec"
      },
      "outputs": [
        {
          "output_type": "execute_result",
          "data": {
            "text/plain": [
              "                 patterns         tags\n",
              "0                   hallo     greeting\n",
              "1                       p     greeting\n",
              "2                     hai     greeting\n",
              "3                    halo     greeting\n",
              "4                     hei     greeting\n",
              "..                    ...          ...\n",
              "116               Bye Bye  terimakasih\n",
              "117          sampai jumpa  terimakasih\n",
              "118              arigatou  terimakasih\n",
              "119                    by  terimakasih\n",
              "120  sampai jumpa kembali  terimakasih\n",
              "\n",
              "[121 rows x 2 columns]"
            ],
            "text/html": [
              "\n",
              "  <div id=\"df-3fc4f4a4-122c-44fb-a5a4-2a84c63c3b97\" class=\"colab-df-container\">\n",
              "    <div>\n",
              "<style scoped>\n",
              "    .dataframe tbody tr th:only-of-type {\n",
              "        vertical-align: middle;\n",
              "    }\n",
              "\n",
              "    .dataframe tbody tr th {\n",
              "        vertical-align: top;\n",
              "    }\n",
              "\n",
              "    .dataframe thead th {\n",
              "        text-align: right;\n",
              "    }\n",
              "</style>\n",
              "<table border=\"1\" class=\"dataframe\">\n",
              "  <thead>\n",
              "    <tr style=\"text-align: right;\">\n",
              "      <th></th>\n",
              "      <th>patterns</th>\n",
              "      <th>tags</th>\n",
              "    </tr>\n",
              "  </thead>\n",
              "  <tbody>\n",
              "    <tr>\n",
              "      <th>0</th>\n",
              "      <td>hallo</td>\n",
              "      <td>greeting</td>\n",
              "    </tr>\n",
              "    <tr>\n",
              "      <th>1</th>\n",
              "      <td>p</td>\n",
              "      <td>greeting</td>\n",
              "    </tr>\n",
              "    <tr>\n",
              "      <th>2</th>\n",
              "      <td>hai</td>\n",
              "      <td>greeting</td>\n",
              "    </tr>\n",
              "    <tr>\n",
              "      <th>3</th>\n",
              "      <td>halo</td>\n",
              "      <td>greeting</td>\n",
              "    </tr>\n",
              "    <tr>\n",
              "      <th>4</th>\n",
              "      <td>hei</td>\n",
              "      <td>greeting</td>\n",
              "    </tr>\n",
              "    <tr>\n",
              "      <th>...</th>\n",
              "      <td>...</td>\n",
              "      <td>...</td>\n",
              "    </tr>\n",
              "    <tr>\n",
              "      <th>116</th>\n",
              "      <td>Bye Bye</td>\n",
              "      <td>terimakasih</td>\n",
              "    </tr>\n",
              "    <tr>\n",
              "      <th>117</th>\n",
              "      <td>sampai jumpa</td>\n",
              "      <td>terimakasih</td>\n",
              "    </tr>\n",
              "    <tr>\n",
              "      <th>118</th>\n",
              "      <td>arigatou</td>\n",
              "      <td>terimakasih</td>\n",
              "    </tr>\n",
              "    <tr>\n",
              "      <th>119</th>\n",
              "      <td>by</td>\n",
              "      <td>terimakasih</td>\n",
              "    </tr>\n",
              "    <tr>\n",
              "      <th>120</th>\n",
              "      <td>sampai jumpa kembali</td>\n",
              "      <td>terimakasih</td>\n",
              "    </tr>\n",
              "  </tbody>\n",
              "</table>\n",
              "<p>121 rows × 2 columns</p>\n",
              "</div>\n",
              "    <div class=\"colab-df-buttons\">\n",
              "\n",
              "  <div class=\"colab-df-container\">\n",
              "    <button class=\"colab-df-convert\" onclick=\"convertToInteractive('df-3fc4f4a4-122c-44fb-a5a4-2a84c63c3b97')\"\n",
              "            title=\"Convert this dataframe to an interactive table.\"\n",
              "            style=\"display:none;\">\n",
              "\n",
              "  <svg xmlns=\"http://www.w3.org/2000/svg\" height=\"24px\" viewBox=\"0 -960 960 960\">\n",
              "    <path d=\"M120-120v-720h720v720H120Zm60-500h600v-160H180v160Zm220 220h160v-160H400v160Zm0 220h160v-160H400v160ZM180-400h160v-160H180v160Zm440 0h160v-160H620v160ZM180-180h160v-160H180v160Zm440 0h160v-160H620v160Z\"/>\n",
              "  </svg>\n",
              "    </button>\n",
              "\n",
              "  <style>\n",
              "    .colab-df-container {\n",
              "      display:flex;\n",
              "      gap: 12px;\n",
              "    }\n",
              "\n",
              "    .colab-df-convert {\n",
              "      background-color: #E8F0FE;\n",
              "      border: none;\n",
              "      border-radius: 50%;\n",
              "      cursor: pointer;\n",
              "      display: none;\n",
              "      fill: #1967D2;\n",
              "      height: 32px;\n",
              "      padding: 0 0 0 0;\n",
              "      width: 32px;\n",
              "    }\n",
              "\n",
              "    .colab-df-convert:hover {\n",
              "      background-color: #E2EBFA;\n",
              "      box-shadow: 0px 1px 2px rgba(60, 64, 67, 0.3), 0px 1px 3px 1px rgba(60, 64, 67, 0.15);\n",
              "      fill: #174EA6;\n",
              "    }\n",
              "\n",
              "    .colab-df-buttons div {\n",
              "      margin-bottom: 4px;\n",
              "    }\n",
              "\n",
              "    [theme=dark] .colab-df-convert {\n",
              "      background-color: #3B4455;\n",
              "      fill: #D2E3FC;\n",
              "    }\n",
              "\n",
              "    [theme=dark] .colab-df-convert:hover {\n",
              "      background-color: #434B5C;\n",
              "      box-shadow: 0px 1px 3px 1px rgba(0, 0, 0, 0.15);\n",
              "      filter: drop-shadow(0px 1px 2px rgba(0, 0, 0, 0.3));\n",
              "      fill: #FFFFFF;\n",
              "    }\n",
              "  </style>\n",
              "\n",
              "    <script>\n",
              "      const buttonEl =\n",
              "        document.querySelector('#df-3fc4f4a4-122c-44fb-a5a4-2a84c63c3b97 button.colab-df-convert');\n",
              "      buttonEl.style.display =\n",
              "        google.colab.kernel.accessAllowed ? 'block' : 'none';\n",
              "\n",
              "      async function convertToInteractive(key) {\n",
              "        const element = document.querySelector('#df-3fc4f4a4-122c-44fb-a5a4-2a84c63c3b97');\n",
              "        const dataTable =\n",
              "          await google.colab.kernel.invokeFunction('convertToInteractive',\n",
              "                                                    [key], {});\n",
              "        if (!dataTable) return;\n",
              "\n",
              "        const docLinkHtml = 'Like what you see? Visit the ' +\n",
              "          '<a target=\"_blank\" href=https://colab.research.google.com/notebooks/data_table.ipynb>data table notebook</a>'\n",
              "          + ' to learn more about interactive tables.';\n",
              "        element.innerHTML = '';\n",
              "        dataTable['output_type'] = 'display_data';\n",
              "        await google.colab.output.renderOutput(dataTable, element);\n",
              "        const docLink = document.createElement('div');\n",
              "        docLink.innerHTML = docLinkHtml;\n",
              "        element.appendChild(docLink);\n",
              "      }\n",
              "    </script>\n",
              "  </div>\n",
              "\n",
              "\n",
              "<div id=\"df-b2d5d716-4bf0-4c1b-b13f-ea8abea6964d\">\n",
              "  <button class=\"colab-df-quickchart\" onclick=\"quickchart('df-b2d5d716-4bf0-4c1b-b13f-ea8abea6964d')\"\n",
              "            title=\"Suggest charts.\"\n",
              "            style=\"display:none;\">\n",
              "\n",
              "<svg xmlns=\"http://www.w3.org/2000/svg\" height=\"24px\"viewBox=\"0 0 24 24\"\n",
              "     width=\"24px\">\n",
              "    <g>\n",
              "        <path d=\"M19 3H5c-1.1 0-2 .9-2 2v14c0 1.1.9 2 2 2h14c1.1 0 2-.9 2-2V5c0-1.1-.9-2-2-2zM9 17H7v-7h2v7zm4 0h-2V7h2v10zm4 0h-2v-4h2v4z\"/>\n",
              "    </g>\n",
              "</svg>\n",
              "  </button>\n",
              "\n",
              "<style>\n",
              "  .colab-df-quickchart {\n",
              "      --bg-color: #E8F0FE;\n",
              "      --fill-color: #1967D2;\n",
              "      --hover-bg-color: #E2EBFA;\n",
              "      --hover-fill-color: #174EA6;\n",
              "      --disabled-fill-color: #AAA;\n",
              "      --disabled-bg-color: #DDD;\n",
              "  }\n",
              "\n",
              "  [theme=dark] .colab-df-quickchart {\n",
              "      --bg-color: #3B4455;\n",
              "      --fill-color: #D2E3FC;\n",
              "      --hover-bg-color: #434B5C;\n",
              "      --hover-fill-color: #FFFFFF;\n",
              "      --disabled-bg-color: #3B4455;\n",
              "      --disabled-fill-color: #666;\n",
              "  }\n",
              "\n",
              "  .colab-df-quickchart {\n",
              "    background-color: var(--bg-color);\n",
              "    border: none;\n",
              "    border-radius: 50%;\n",
              "    cursor: pointer;\n",
              "    display: none;\n",
              "    fill: var(--fill-color);\n",
              "    height: 32px;\n",
              "    padding: 0;\n",
              "    width: 32px;\n",
              "  }\n",
              "\n",
              "  .colab-df-quickchart:hover {\n",
              "    background-color: var(--hover-bg-color);\n",
              "    box-shadow: 0 1px 2px rgba(60, 64, 67, 0.3), 0 1px 3px 1px rgba(60, 64, 67, 0.15);\n",
              "    fill: var(--button-hover-fill-color);\n",
              "  }\n",
              "\n",
              "  .colab-df-quickchart-complete:disabled,\n",
              "  .colab-df-quickchart-complete:disabled:hover {\n",
              "    background-color: var(--disabled-bg-color);\n",
              "    fill: var(--disabled-fill-color);\n",
              "    box-shadow: none;\n",
              "  }\n",
              "\n",
              "  .colab-df-spinner {\n",
              "    border: 2px solid var(--fill-color);\n",
              "    border-color: transparent;\n",
              "    border-bottom-color: var(--fill-color);\n",
              "    animation:\n",
              "      spin 1s steps(1) infinite;\n",
              "  }\n",
              "\n",
              "  @keyframes spin {\n",
              "    0% {\n",
              "      border-color: transparent;\n",
              "      border-bottom-color: var(--fill-color);\n",
              "      border-left-color: var(--fill-color);\n",
              "    }\n",
              "    20% {\n",
              "      border-color: transparent;\n",
              "      border-left-color: var(--fill-color);\n",
              "      border-top-color: var(--fill-color);\n",
              "    }\n",
              "    30% {\n",
              "      border-color: transparent;\n",
              "      border-left-color: var(--fill-color);\n",
              "      border-top-color: var(--fill-color);\n",
              "      border-right-color: var(--fill-color);\n",
              "    }\n",
              "    40% {\n",
              "      border-color: transparent;\n",
              "      border-right-color: var(--fill-color);\n",
              "      border-top-color: var(--fill-color);\n",
              "    }\n",
              "    60% {\n",
              "      border-color: transparent;\n",
              "      border-right-color: var(--fill-color);\n",
              "    }\n",
              "    80% {\n",
              "      border-color: transparent;\n",
              "      border-right-color: var(--fill-color);\n",
              "      border-bottom-color: var(--fill-color);\n",
              "    }\n",
              "    90% {\n",
              "      border-color: transparent;\n",
              "      border-bottom-color: var(--fill-color);\n",
              "    }\n",
              "  }\n",
              "</style>\n",
              "\n",
              "  <script>\n",
              "    async function quickchart(key) {\n",
              "      const quickchartButtonEl =\n",
              "        document.querySelector('#' + key + ' button');\n",
              "      quickchartButtonEl.disabled = true;  // To prevent multiple clicks.\n",
              "      quickchartButtonEl.classList.add('colab-df-spinner');\n",
              "      try {\n",
              "        const charts = await google.colab.kernel.invokeFunction(\n",
              "            'suggestCharts', [key], {});\n",
              "      } catch (error) {\n",
              "        console.error('Error during call to suggestCharts:', error);\n",
              "      }\n",
              "      quickchartButtonEl.classList.remove('colab-df-spinner');\n",
              "      quickchartButtonEl.classList.add('colab-df-quickchart-complete');\n",
              "    }\n",
              "    (() => {\n",
              "      let quickchartButtonEl =\n",
              "        document.querySelector('#df-b2d5d716-4bf0-4c1b-b13f-ea8abea6964d button');\n",
              "      quickchartButtonEl.style.display =\n",
              "        google.colab.kernel.accessAllowed ? 'block' : 'none';\n",
              "    })();\n",
              "  </script>\n",
              "</div>\n",
              "    </div>\n",
              "  </div>\n"
            ]
          },
          "metadata": {},
          "execution_count": 114
        }
      ],
      "source": [
        "data"
      ]
    },
    {
      "cell_type": "markdown",
      "metadata": {
        "id": "6GfoFPBwo5dx"
      },
      "source": [
        "## **Preprocessing Data**"
      ]
    },
    {
      "cell_type": "markdown",
      "metadata": {
        "id": "qFhRA0LBojEy"
      },
      "source": [
        "Setelah kita meload data dan mengonversi data json menjadi dataframe. Tahapan selanjutnya adalah praproses pada dataset yang kita gunakan saat ini yaitu dengan cara:\n",
        "\n",
        "1.   Remove Punctuations (Menghapus Punktuasi)\n",
        "2.   Lematization (Lematisasi)\n",
        "3.   Tokenization (Tokenisasi)\n",
        "4.   Apply Padding (Padding)\n",
        "5.   Encoding the Outputs (Konversi Keluaran Enkoding)\n",
        "\n",
        "Kelima tahapan pemrosesan teks ini dijelaskan pada bagian langkah selanjutnya."
      ]
    },
    {
      "cell_type": "markdown",
      "metadata": {
        "id": "IYlRfAKwq2fM"
      },
      "source": [
        "## **Remove Punctuations**"
      ]
    },
    {
      "cell_type": "markdown",
      "metadata": {
        "id": "pCUHbTpDocc1"
      },
      "source": [
        "Tahapan praproses pada data teks yang pertama adalah menghapus punktuasi atau tanda baca seperti *special character* yaitu **'!'** (**tanda seru**) **','** (**tanda koma**) **'.'** (**tanda titik sebagai berhenti**) '**?**' (**tanda tanya**) dan tanda baca yang lain. Tahapan ini gunanya untuk mempermudah pemrosesan data teks yang akan kita olah."
      ]
    },
    {
      "cell_type": "code",
      "execution_count": null,
      "metadata": {
        "id": "hTJfXNOLLlvi"
      },
      "outputs": [],
      "source": [
        "# Removing Punctuations (Menghilangkan Punktuasi)\n",
        "data['patterns'] = data['patterns'].apply(lambda wrd:[ltrs.lower() for ltrs in wrd if ltrs not in string.punctuation])\n",
        "data['patterns'] = data['patterns'].apply(lambda wrd: ''.join(wrd))"
      ]
    },
    {
      "cell_type": "markdown",
      "metadata": {
        "id": "k1rJMPnbq6Nu"
      },
      "source": [
        "## **Lemmatization**"
      ]
    },
    {
      "cell_type": "markdown",
      "metadata": {
        "id": "Tm0AJodMpGDX"
      },
      "source": [
        "Lemmatisasi atau Lemmatization adalah proses dimana merujuk pada melakukan sesuatu menggunakan vocabulary atau kosakata dan analisis morfologi kata-kata untuk menghilangkan *inflectional endings only* dan untuk mengembalikan bentuk *dictionary* (kata dalam kamus) dari sebuah kata yang dikenal sebagai ***lemma***."
      ]
    },
    {
      "cell_type": "code",
      "execution_count": null,
      "metadata": {
        "id": "xshJV43hLqmh",
        "colab": {
          "base_uri": "https://localhost:8080/"
        },
        "outputId": "c108a374-8824-41e9-9ce9-5726f91d0ee5"
      },
      "outputs": [
        {
          "output_type": "stream",
          "name": "stdout",
          "text": [
            "135 unique lemmatized words ['.', 'acara', 'ada', 'afternoon', 'android', 'ap', 'apa', 'apakah', 'apasih', 'aplikasi', 'aplikasinya', 'arigatou', 'asing', 'atau', 'bagus', 'bahasa', 'baju', 'banyak', 'baru', 'bekerja', 'berkualitas', 'bisa', 'bisakah', 'bro', 'bukan', 'by', 'bye', 'celana', 'cocok', 'cuma', 'dadah', 'dah', 'dalam', 'dengan', 'di', 'didukung', 'digunakan', 'dijalankan', 'dipakai', 'dulu', 'ga', 'gabisa', 'gatau', 'gaun', 'good', 'hai', 'hallo', 'halo', 'hangat', 'hanya', 'hei', 'helo', 'hi', 'hitam', 'hy', 'indo', 'indonesia', 'ini', 'io', 'itu', 'jaket', 'jam', 'jelasin', 'jelek', 'jumpa', 'kacamata', 'kaos', 'kasih', 'kawan', 'kembali', 'khusus', 'kompatibel', 'lagi', 'lain', 'lainnya', 'makasih', 'malam', 'mana', 'memuaskan', 'mencari', 'mengapa', 'mini', 'morning', 'night', 'nyaman', 'nyediain', 'olahraga', 'oleh', 'p', 'pagi', 'pake', 'panjang', 'pekain', 'pendek', 'pendukung', 'pke', 'platform', 'rekomendasi', 'rekomendasikan', 'rendah', 'rok', 'saja', 'sampai', 'sangat', 'saya', 'see', 'selain', 'selamat', 'semua', 'sepatu', 'si', 'siang', 'sih', 'soal', 'sore', 'sport', 'stylebot', 'sweater', 'tampilan', 'tangan', 'tau', 'terima', 'tersedia', 'thank', 'thanks', 'tidak', 'tinggal', 'tren', 'udah', 'untuk', 'window', 'ya', 'yah', 'yang', 'you']\n"
          ]
        }
      ],
      "source": [
        "# Lematisasi atau Lemmatization\n",
        "lemmatizer = WordNetLemmatizer()\n",
        "words = [lemmatizer.lemmatize(w.lower())for w in words if w not in ignore_words]\n",
        "words = sorted(list(set(words)))\n",
        "\n",
        "print (len(words), \"unique lemmatized words\", words)"
      ]
    },
    {
      "cell_type": "markdown",
      "metadata": {
        "id": "GrRYCQJGrDWm"
      },
      "source": [
        "## **Mengurutkan Data Kelas Tags**"
      ]
    },
    {
      "cell_type": "markdown",
      "source": [
        "Pada tahap ini kita mengurutkan data kelas tags dari sesuai urutan Alfabet"
      ],
      "metadata": {
        "id": "k49n0wXisyb9"
      }
    },
    {
      "cell_type": "code",
      "execution_count": null,
      "metadata": {
        "id": "Xma7i3ZhLu9G",
        "colab": {
          "base_uri": "https://localhost:8080/"
        },
        "outputId": "a5572f0c-cd23-4d97-8abb-7a832771991f"
      },
      "outputs": [
        {
          "output_type": "stream",
          "name": "stdout",
          "text": [
            "17 classes ['bahasa yang didukung', 'baju', 'celana panjang', 'celana pendek', 'gaun', 'greeting', 'jaket', 'jam tangan', 'kacamata', 'kaos', 'ketersediaan platform', 'rok', 'sepatu', 'sweater', 'tentang aplikasi', 'terimakasih', 'ugly aps']\n"
          ]
        }
      ],
      "source": [
        "# sort classes\n",
        "classes = sorted(list(set(classes)))\n",
        "print (len(classes), \"classes\", classes)"
      ]
    },
    {
      "cell_type": "markdown",
      "metadata": {
        "id": "Q-lojn23pfMo"
      },
      "source": [
        "## **Mencari Jumlah Keseluruhan Teks Data**"
      ]
    },
    {
      "cell_type": "markdown",
      "source": [
        "Pada tahap ini dicari jumlah dari kalimat dataset"
      ],
      "metadata": {
        "id": "t0JBcJe-s8KN"
      }
    },
    {
      "cell_type": "code",
      "execution_count": null,
      "metadata": {
        "id": "5qwKUoQMLyAz",
        "colab": {
          "base_uri": "https://localhost:8080/"
        },
        "outputId": "5b5063e5-e6b6-4a9a-fb58-dec68d9af7d4"
      },
      "outputs": [
        {
          "output_type": "stream",
          "name": "stdout",
          "text": [
            "1371 documents\n"
          ]
        }
      ],
      "source": [
        "# documents = combination between patterns and intents\n",
        "print (len(documents), \"documents\")"
      ]
    },
    {
      "cell_type": "markdown",
      "metadata": {
        "id": "XlStSFYKrQGz"
      },
      "source": [
        "## **Tokenization**"
      ]
    },
    {
      "cell_type": "markdown",
      "metadata": {
        "id": "CXhIv3fVptrk"
      },
      "source": [
        "\n",
        "Tokenisasi adalah suatu proses memberikan urutan karakter dan sebuah unit dokumen terdefinisi. Tokenisasi juga merupakan tugas untuk memecah kalimat menjadi bagian-bagian yang disebut dengan '**Token**' dan menghilangkan bagian tertentu seperti tanda baca.\n",
        "\n",
        "Tokenizer(num_words=2000) berfungsi untuk menyimpan kata yang paling sering muncul dari keseluruhan data yaitu  yang disimpan maksimal sampai 2000 kata.\n"
      ]
    },
    {
      "cell_type": "code",
      "execution_count": null,
      "metadata": {
        "id": "jUwXLZnkL1CJ",
        "colab": {
          "base_uri": "https://localhost:8080/"
        },
        "outputId": "9ccbdeb5-c55a-4122-fc66-8f707d40777f"
      },
      "outputs": [
        {
          "output_type": "execute_result",
          "data": {
            "text/plain": [
              "[[74],\n",
              " [75],\n",
              " [76],\n",
              " [77],\n",
              " [78],\n",
              " [79],\n",
              " [80],\n",
              " [42],\n",
              " [43],\n",
              " [44],\n",
              " [45],\n",
              " [81],\n",
              " [46],\n",
              " [82],\n",
              " [83],\n",
              " [84],\n",
              " [20, 42],\n",
              " [20, 44],\n",
              " [20, 46],\n",
              " [21, 43],\n",
              " [21, 85],\n",
              " [21, 45],\n",
              " [86],\n",
              " [2, 47, 3, 14],\n",
              " [48, 14],\n",
              " [2, 47, 14],\n",
              " [3, 48, 14],\n",
              " [14, 87, 88],\n",
              " [35, 89, 49, 14],\n",
              " [1, 90, 14],\n",
              " [91, 49, 14],\n",
              " [8, 22, 4, 1],\n",
              " [1, 9, 22, 92],\n",
              " [22, 2, 5, 10, 11],\n",
              " [12, 22],\n",
              " [8, 23, 4, 1],\n",
              " [1, 9, 23, 4, 93, 94],\n",
              " [23, 2, 5, 10, 11],\n",
              " [12, 23],\n",
              " [8, 24, 4, 1],\n",
              " [1, 9, 24, 50],\n",
              " [24, 2, 5, 10, 11],\n",
              " [12, 24],\n",
              " [8, 15, 19, 4, 1],\n",
              " [1, 9, 15, 19, 5, 95],\n",
              " [15, 19, 2, 5, 10, 11],\n",
              " [12, 15, 19],\n",
              " [8, 25, 4, 1],\n",
              " [1, 9, 25, 4, 96, 97],\n",
              " [25, 2, 5, 10, 11],\n",
              " [12, 25],\n",
              " [8, 15, 36, 4, 1],\n",
              " [1, 9, 15, 36, 4, 51],\n",
              " [15, 36, 2, 5, 10, 11],\n",
              " [12, 15, 19],\n",
              " [8, 26, 4, 1],\n",
              " [1, 9, 26, 98],\n",
              " [26, 2, 5, 10, 11],\n",
              " [12, 26],\n",
              " [8, 27, 4, 1],\n",
              " [1, 9, 27, 50],\n",
              " [27, 2, 5, 10, 11],\n",
              " [12, 27],\n",
              " [8, 28, 29, 4, 1],\n",
              " [1, 9, 28, 29, 99],\n",
              " [28, 29, 2, 5, 10, 11],\n",
              " [12, 28, 29],\n",
              " [8, 30, 4, 1],\n",
              " [1, 9, 30, 51],\n",
              " [30, 2, 5, 10, 11],\n",
              " [12, 30],\n",
              " [8, 37, 4, 1],\n",
              " [1, 9, 37, 100],\n",
              " [37, 2, 5, 10, 11],\n",
              " [52, 7, 2, 3, 6, 17],\n",
              " [31, 101, 7, 2],\n",
              " [31, 102, 38, 7, 53],\n",
              " [31, 39, 103, 7, 54, 104],\n",
              " [105, 38, 7, 106, 107],\n",
              " [31, 38, 7, 53, 108, 109],\n",
              " [17, 7, 2, 4, 3, 6],\n",
              " [13, 3, 6, 55, 7, 54],\n",
              " [7, 5, 56, 52, 3, 6, 2],\n",
              " [13, 57, 7, 58, 40],\n",
              " [110, 7, 58, 13, 111, 7, 112, 113],\n",
              " [13, 3, 6, 17, 18, 59, 32],\n",
              " [32, 2, 40, 5, 55, 114, 3, 6],\n",
              " [115, 3, 6, 60, 18, 61],\n",
              " [13, 3, 6, 62, 63, 64],\n",
              " [13, 3, 6, 17, 4, 64],\n",
              " [13, 3, 6, 57, 39, 60, 18, 65],\n",
              " [18, 32, 116, 40, 3, 6, 39, 56],\n",
              " [13, 3, 6, 17, 18, 65],\n",
              " [13, 3, 6, 17, 18, 61],\n",
              " [13, 3, 6, 62, 63, 59, 32],\n",
              " [16, 33, 66],\n",
              " [67, 117, 16, 41],\n",
              " [16, 41],\n",
              " [16, 33, 118],\n",
              " [16, 119, 120],\n",
              " [67, 16, 33, 66],\n",
              " [16, 33, 121],\n",
              " [16, 122, 41],\n",
              " [123],\n",
              " [124, 68],\n",
              " [69, 35],\n",
              " [70],\n",
              " [69, 35, 125],\n",
              " [70, 71],\n",
              " [126],\n",
              " [127],\n",
              " [34],\n",
              " [128, 68],\n",
              " [21, 34],\n",
              " [20, 129],\n",
              " [130, 131, 71],\n",
              " [34, 34],\n",
              " [72, 73],\n",
              " [132],\n",
              " [133],\n",
              " [72, 73, 134]]"
            ]
          },
          "metadata": {},
          "execution_count": 119
        }
      ],
      "source": [
        "# Tokenize the data (Tokenisasi Data)\n",
        "tokenizer = Tokenizer(num_words=2000)\n",
        "tokenizer.fit_on_texts(data['patterns'])\n",
        "train = tokenizer.texts_to_sequences(data['patterns'])\n",
        "train"
      ]
    },
    {
      "cell_type": "markdown",
      "metadata": {
        "id": "1m2AnWB9rWHr"
      },
      "source": [
        "## **Menampilkan Padding**"
      ]
    },
    {
      "cell_type": "markdown",
      "metadata": {
        "id": "z9iUO8Ncp4ne"
      },
      "source": [
        "Padding juga adalah proses untuk membuat setiap kalimat pada teks memiliki panjang yang seragam. Sama seperti melakukan resize gambar, agar resolusi setiap gambar sama besar. Untuk menggunakan padding bisa impor library **pad_sequence**. Kemudian buat panggil fungsi pad_sequence() dan masukkan sequence hasil tokenisasi sebagai parameternya.\n",
        "\n",
        "Singkatnya padding menambahkan angka 0 agar panjang nya sama dari tokenizer\n"
      ]
    },
    {
      "cell_type": "code",
      "execution_count": null,
      "metadata": {
        "id": "7t2wP6v4L2xj",
        "colab": {
          "base_uri": "https://localhost:8080/"
        },
        "outputId": "2cb9ed80-5687-4ea5-f0a0-29538585eb46"
      },
      "outputs": [
        {
          "output_type": "stream",
          "name": "stdout",
          "text": [
            "[[  0   0   0   0   0   0   0  74]\n",
            " [  0   0   0   0   0   0   0  75]\n",
            " [  0   0   0   0   0   0   0  76]\n",
            " [  0   0   0   0   0   0   0  77]\n",
            " [  0   0   0   0   0   0   0  78]\n",
            " [  0   0   0   0   0   0   0  79]\n",
            " [  0   0   0   0   0   0   0  80]\n",
            " [  0   0   0   0   0   0   0  42]\n",
            " [  0   0   0   0   0   0   0  43]\n",
            " [  0   0   0   0   0   0   0  44]\n",
            " [  0   0   0   0   0   0   0  45]\n",
            " [  0   0   0   0   0   0   0  81]\n",
            " [  0   0   0   0   0   0   0  46]\n",
            " [  0   0   0   0   0   0   0  82]\n",
            " [  0   0   0   0   0   0   0  83]\n",
            " [  0   0   0   0   0   0   0  84]\n",
            " [  0   0   0   0   0   0  20  42]\n",
            " [  0   0   0   0   0   0  20  44]\n",
            " [  0   0   0   0   0   0  20  46]\n",
            " [  0   0   0   0   0   0  21  43]\n",
            " [  0   0   0   0   0   0  21  85]\n",
            " [  0   0   0   0   0   0  21  45]\n",
            " [  0   0   0   0   0   0   0  86]\n",
            " [  0   0   0   0   2  47   3  14]\n",
            " [  0   0   0   0   0   0  48  14]\n",
            " [  0   0   0   0   0   2  47  14]\n",
            " [  0   0   0   0   0   3  48  14]\n",
            " [  0   0   0   0   0  14  87  88]\n",
            " [  0   0   0   0  35  89  49  14]\n",
            " [  0   0   0   0   0   1  90  14]\n",
            " [  0   0   0   0   0  91  49  14]\n",
            " [  0   0   0   0   8  22   4   1]\n",
            " [  0   0   0   0   1   9  22  92]\n",
            " [  0   0   0  22   2   5  10  11]\n",
            " [  0   0   0   0   0   0  12  22]\n",
            " [  0   0   0   0   8  23   4   1]\n",
            " [  0   0   1   9  23   4  93  94]\n",
            " [  0   0   0  23   2   5  10  11]\n",
            " [  0   0   0   0   0   0  12  23]\n",
            " [  0   0   0   0   8  24   4   1]\n",
            " [  0   0   0   0   1   9  24  50]\n",
            " [  0   0   0  24   2   5  10  11]\n",
            " [  0   0   0   0   0   0  12  24]\n",
            " [  0   0   0   8  15  19   4   1]\n",
            " [  0   0   1   9  15  19   5  95]\n",
            " [  0   0  15  19   2   5  10  11]\n",
            " [  0   0   0   0   0  12  15  19]\n",
            " [  0   0   0   0   8  25   4   1]\n",
            " [  0   0   1   9  25   4  96  97]\n",
            " [  0   0   0  25   2   5  10  11]\n",
            " [  0   0   0   0   0   0  12  25]\n",
            " [  0   0   0   8  15  36   4   1]\n",
            " [  0   0   1   9  15  36   4  51]\n",
            " [  0   0  15  36   2   5  10  11]\n",
            " [  0   0   0   0   0  12  15  19]\n",
            " [  0   0   0   0   8  26   4   1]\n",
            " [  0   0   0   0   1   9  26  98]\n",
            " [  0   0   0  26   2   5  10  11]\n",
            " [  0   0   0   0   0   0  12  26]\n",
            " [  0   0   0   0   8  27   4   1]\n",
            " [  0   0   0   0   1   9  27  50]\n",
            " [  0   0   0  27   2   5  10  11]\n",
            " [  0   0   0   0   0   0  12  27]\n",
            " [  0   0   0   8  28  29   4   1]\n",
            " [  0   0   0   1   9  28  29  99]\n",
            " [  0   0  28  29   2   5  10  11]\n",
            " [  0   0   0   0   0  12  28  29]\n",
            " [  0   0   0   0   8  30   4   1]\n",
            " [  0   0   0   0   1   9  30  51]\n",
            " [  0   0   0  30   2   5  10  11]\n",
            " [  0   0   0   0   0   0  12  30]\n",
            " [  0   0   0   0   8  37   4   1]\n",
            " [  0   0   0   0   1   9  37 100]\n",
            " [  0   0   0  37   2   5  10  11]\n",
            " [  0   0  52   7   2   3   6  17]\n",
            " [  0   0   0   0  31 101   7   2]\n",
            " [  0   0   0  31 102  38   7  53]\n",
            " [  0   0  31  39 103   7  54 104]\n",
            " [  0   0   0 105  38   7 106 107]\n",
            " [  0   0  31  38   7  53 108 109]\n",
            " [  0   0  17   7   2   4   3   6]\n",
            " [  0   0  13   3   6  55   7  54]\n",
            " [  0   7   5  56  52   3   6   2]\n",
            " [  0   0   0  13  57   7  58  40]\n",
            " [110   7  58  13 111   7 112 113]\n",
            " [  0  13   3   6  17  18  59  32]\n",
            " [ 32   2  40   5  55 114   3   6]\n",
            " [  0   0 115   3   6  60  18  61]\n",
            " [  0   0  13   3   6  62  63  64]\n",
            " [  0   0  13   3   6  17   4  64]\n",
            " [ 13   3   6  57  39  60  18  65]\n",
            " [ 18  32 116  40   3   6  39  56]\n",
            " [  0   0  13   3   6  17  18  65]\n",
            " [  0   0  13   3   6  17  18  61]\n",
            " [  0  13   3   6  62  63  59  32]\n",
            " [  0   0   0   0   0  16  33  66]\n",
            " [  0   0   0   0  67 117  16  41]\n",
            " [  0   0   0   0   0   0  16  41]\n",
            " [  0   0   0   0   0  16  33 118]\n",
            " [  0   0   0   0   0  16 119 120]\n",
            " [  0   0   0   0  67  16  33  66]\n",
            " [  0   0   0   0   0  16  33 121]\n",
            " [  0   0   0   0   0  16 122  41]\n",
            " [  0   0   0   0   0   0   0 123]\n",
            " [  0   0   0   0   0   0 124  68]\n",
            " [  0   0   0   0   0   0  69  35]\n",
            " [  0   0   0   0   0   0   0  70]\n",
            " [  0   0   0   0   0  69  35 125]\n",
            " [  0   0   0   0   0   0  70  71]\n",
            " [  0   0   0   0   0   0   0 126]\n",
            " [  0   0   0   0   0   0   0 127]\n",
            " [  0   0   0   0   0   0   0  34]\n",
            " [  0   0   0   0   0   0 128  68]\n",
            " [  0   0   0   0   0   0  21  34]\n",
            " [  0   0   0   0   0   0  20 129]\n",
            " [  0   0   0   0   0 130 131  71]\n",
            " [  0   0   0   0   0   0  34  34]\n",
            " [  0   0   0   0   0   0  72  73]\n",
            " [  0   0   0   0   0   0   0 132]\n",
            " [  0   0   0   0   0   0   0 133]\n",
            " [  0   0   0   0   0  72  73 134]]\n"
          ]
        }
      ],
      "source": [
        "# Terapkan padding\n",
        "x_train = pad_sequences ( train )\n",
        "print ( x_train ) # Padding Sequences"
      ]
    },
    {
      "cell_type": "markdown",
      "metadata": {
        "id": "Vso8SeEmrbIF"
      },
      "source": [
        "## **Encoding Text**"
      ]
    },
    {
      "cell_type": "markdown",
      "metadata": {
        "id": "4QmDm12nqadg"
      },
      "source": [
        "Encoding merupakan suatu konversi atau pengkodean yang dimana data kategorik seperti huruf atau data teks menjadi data numerik atau angka menyesuaikan dengan data label yang digunakan. Pada proses tahapan ini, encoding mengubah data teks pada kolom data tags menjadi data numerik dengan bahasa biner komputer yaitu 0 dan 1.\n",
        "\n",
        "Encoding singkatnya adalah mengubah data teks menjadi angka. Tujuan dari encoding ini adalah mempermudah saat proses komputasi data teks dan modelling"
      ]
    },
    {
      "cell_type": "code",
      "execution_count": null,
      "metadata": {
        "id": "ayN1tZzLL85L",
        "colab": {
          "base_uri": "https://localhost:8080/"
        },
        "outputId": "c7164eda-cc2c-4bb1-e907-67423e22e584"
      },
      "outputs": [
        {
          "output_type": "stream",
          "name": "stdout",
          "text": [
            "[ 5  5  5  5  5  5  5  5  5  5  5  5  5  5  5  5  5  5  5  5  5  5  5 14\n",
            " 14 14 14 14 14 14 14  9  9  9  9  4  4  4  4  6  6  6  6  2  2  2  2  1\n",
            "  1  1  1  3  3  3  3 11 11 11 11 13 13 13 13  7  7  7  7 12 12 12 12  8\n",
            "  8  8  0  0  0  0  0  0  0  0  0  0  0 10 10 10 10 10 10 10 10 10 10 16\n",
            " 16 16 16 16 16 16 16 15 15 15 15 15 15 15 15 15 15 15 15 15 15 15 15 15\n",
            " 15]\n"
          ]
        }
      ],
      "source": [
        "# Encoding the outputs\n",
        "le = LabelEncoder()\n",
        "y_train = le.fit_transform(data['tags'])\n",
        "print(y_train)"
      ]
    },
    {
      "cell_type": "markdown",
      "metadata": {
        "id": "QimzcsnIsarB"
      },
      "source": [
        "## **Input Length, Output Length and Vocabulary**"
      ]
    },
    {
      "cell_type": "code",
      "execution_count": null,
      "metadata": {
        "id": "fVlXLfLaL_1h",
        "colab": {
          "base_uri": "https://localhost:8080/"
        },
        "outputId": "c9a9fee2-42c0-48d3-f01c-ca3be3bfeb92"
      },
      "outputs": [
        {
          "output_type": "stream",
          "name": "stdout",
          "text": [
            "8\n"
          ]
        }
      ],
      "source": [
        "# input length\n",
        "input_shape = x_train.shape[1]\n",
        "print(input_shape)"
      ]
    },
    {
      "cell_type": "code",
      "execution_count": null,
      "metadata": {
        "id": "rEL1lmSZMDAF",
        "colab": {
          "base_uri": "https://localhost:8080/"
        },
        "outputId": "cc4bdf4b-0796-4a93-a5a5-799c58c894d4"
      },
      "outputs": [
        {
          "output_type": "stream",
          "name": "stdout",
          "text": [
            "number of unique words :  134\n",
            "output length:  17\n"
          ]
        }
      ],
      "source": [
        "# define vocabulary\n",
        "vocabulary = len(tokenizer.word_index)\n",
        "print(\"number of unique words : \", vocabulary)\n",
        "\n",
        "# output length\n",
        "output_length = le.classes_.shape[0]\n",
        "print(\"output length: \", output_length)"
      ]
    },
    {
      "cell_type": "markdown",
      "metadata": {
        "id": "QCCxWc03sLly"
      },
      "source": [
        "## **Save Model Words & Classes**"
      ]
    },
    {
      "cell_type": "markdown",
      "metadata": {
        "id": "T2M-SF6ATpVy"
      },
      "source": [
        "Setelah dilakukan Preprocessing data selanjutnya kita bisa menyimpan hasil atau model Preprocessing data tersebut dengan menggunakan format pickle.\n",
        "Pickle adalah sebuah modul pada standard library python, yang dapat digunakan untuk menyimpan dan membaca data ke dalam /dari sebuah file."
      ]
    },
    {
      "cell_type": "code",
      "execution_count": null,
      "metadata": {
        "id": "fVisz4o0MJML"
      },
      "outputs": [],
      "source": [
        "pickle.dump(words, open('/content/drive/MyDrive/Colab Notebooks/STYLEBOT/model/words.pkl','wb'))\n",
        "pickle.dump(classes, open('/content/drive/MyDrive/Colab Notebooks/STYLEBOT/model/classes.pkl','wb'))"
      ]
    },
    {
      "cell_type": "markdown",
      "metadata": {
        "id": "-zZeQ-gDqzJF"
      },
      "source": [
        "## **Save Label Encoder & Tokenizer**"
      ]
    },
    {
      "cell_type": "code",
      "execution_count": null,
      "metadata": {
        "id": "wY6u3IrMML80"
      },
      "outputs": [],
      "source": [
        "pickle.dump(le, open('/content/drive/MyDrive/Colab Notebooks/STYLEBOT/model/le.pkl','wb'))\n",
        "pickle.dump(tokenizer, open('/content/drive/MyDrive/Colab Notebooks/STYLEBOT/model/tokenizers.pkl','wb'))"
      ]
    },
    {
      "cell_type": "markdown",
      "metadata": {
        "id": "1-qcr4gvr0QX"
      },
      "source": [
        "## **Modelling**"
      ]
    },
    {
      "cell_type": "markdown",
      "source": [
        "Pada proyek kali ini kami menggunakan algoritma Neural Network atau Jaringan Syaraf Tiruan dengan algoritma LSTM (Long Short Term Memory).\n",
        "LSTM (Long Short Term Memory) adalah algoritma deep learning cocok digunakan untuk membuat prediksi dan klasifikasi yang berhubungan dengan data teks."
      ],
      "metadata": {
        "id": "mqmquQYb1aEc"
      }
    },
    {
      "cell_type": "markdown",
      "source": [
        "Disini kami menggunkan 5 layer :\n",
        "1. Layer input\n",
        "2. Layer Embedding\n",
        "3. Layer LSTM\n",
        "4. Layer Flatten\n",
        "5. Layer Dense\n",
        "\n",
        "Dengan kompilasi model menggunakan sparse categorical crossentropy dan adam optimizer."
      ],
      "metadata": {
        "id": "iNBpDL2z8lJ1"
      }
    },
    {
      "cell_type": "code",
      "execution_count": null,
      "metadata": {
        "id": "OEcksQoqMRTF"
      },
      "outputs": [],
      "source": [
        "# Creating the model (Membuat Modeling)\n",
        "i = Input(shape=(input_shape,))\n",
        "x = Embedding(vocabulary+1,20)(i) # Layer Embedding\n",
        "x = LSTM(20, return_sequences=True)(x) # Layer Long Short Term Memory\n",
        "x = Flatten()(x) # Layer Flatten\n",
        "x = Dense(output_length, activation=\"softmax\")(x) # Layer Dense\n",
        "model  = Model(i,x)\n",
        "\n",
        "# Compiling the model (Kompilasi Model)\n",
        "model.compile(loss=\"sparse_categorical_crossentropy\", optimizer='adam', metrics=['accuracy'])"
      ]
    },
    {
      "cell_type": "markdown",
      "metadata": {
        "id": "lT0RJ46Ur3o0"
      },
      "source": [
        "## **Visualization**"
      ]
    },
    {
      "cell_type": "markdown",
      "metadata": {
        "id": "EyRhGLNSrRXp"
      },
      "source": [
        "Menampilkan hasil visualisasi dari modelling menggunakan plot"
      ]
    },
    {
      "cell_type": "code",
      "execution_count": null,
      "metadata": {
        "id": "opavXUyQMUhK",
        "colab": {
          "base_uri": "https://localhost:8080/",
          "height": 533
        },
        "outputId": "1b347516-553f-4d41-a8b3-1aefcc7bed93"
      },
      "outputs": [
        {
          "output_type": "execute_result",
          "data": {
            "image/png": "[encoded data removed]",
            "text/plain": [
              "<IPython.core.display.Image object>"
            ]
          },
          "metadata": {},
          "execution_count": 127
        }
      ],
      "source": [
        "# Visualization Plot Architecture Model (Visualisasi Plot Arsitektur Model)\n",
        "plot_model(model, to_file='/content/drive/MyDrive/Colab Notebooks/STYLEBOT/model/model_plot.png', show_shapes=True, show_layer_names=True)"
      ]
    },
    {
      "cell_type": "markdown",
      "metadata": {
        "id": "c0rjkCZfr8gJ"
      },
      "source": [
        "## **Parameter Model**"
      ]
    },
    {
      "cell_type": "code",
      "execution_count": null,
      "metadata": {
        "id": "Jj8OPMsLMZJx",
        "colab": {
          "base_uri": "https://localhost:8080/"
        },
        "outputId": "4d072ae5-c203-44cc-f49c-669bb9e8a636"
      },
      "outputs": [
        {
          "output_type": "stream",
          "name": "stdout",
          "text": [
            "Model: \"model_5\"\n",
            "_________________________________________________________________\n",
            " Layer (type)                Output Shape              Param #   \n",
            "=================================================================\n",
            " input_6 (InputLayer)        [(None, 8)]               0         \n",
            "                                                                 \n",
            " embedding_5 (Embedding)     (None, 8, 20)             2700      \n",
            "                                                                 \n",
            " lstm_5 (LSTM)               (None, 8, 20)             3280      \n",
            "                                                                 \n",
            " flatten_5 (Flatten)         (None, 160)               0         \n",
            "                                                                 \n",
            " dense_5 (Dense)             (None, 17)                2737      \n",
            "                                                                 \n",
            "=================================================================\n",
            "Total params: 8717 (34.05 KB)\n",
            "Trainable params: 8717 (34.05 KB)\n",
            "Non-trainable params: 0 (0.00 Byte)\n",
            "_________________________________________________________________\n"
          ]
        }
      ],
      "source": [
        "# Menampilkan Parameter Model\n",
        "model.summary()"
      ]
    },
    {
      "cell_type": "markdown",
      "metadata": {
        "id": "7nwBQiqhsBZk"
      },
      "source": [
        "## **Training Model**"
      ]
    },
    {
      "cell_type": "markdown",
      "source": [
        "Melatih model sampai 300 kali agar mendapat akurasi yang tinggi"
      ],
      "metadata": {
        "id": "GrAqZhW165D7"
      }
    },
    {
      "cell_type": "code",
      "execution_count": null,
      "metadata": {
        "id": "aRnmNAuoMbzk",
        "colab": {
          "base_uri": "https://localhost:8080/"
        },
        "outputId": "dd5de027-273d-4924-d184-ca277afade33"
      },
      "outputs": [
        {
          "output_type": "stream",
          "name": "stdout",
          "text": [
            "Epoch 1/300\n",
            "4/4 [==============================] - 3s 143ms/step - loss: 2.8324 - accuracy: 0.0909\n",
            "Epoch 2/300\n",
            "4/4 [==============================] - 1s 146ms/step - loss: 2.8209 - accuracy: 0.2562\n",
            "Epoch 3/300\n",
            "4/4 [==============================] - 0s 100ms/step - loss: 2.8104 - accuracy: 0.2479\n",
            "Epoch 4/300\n",
            "4/4 [==============================] - 0s 104ms/step - loss: 2.7965 - accuracy: 0.2066\n",
            "Epoch 5/300\n",
            "4/4 [==============================] - 0s 54ms/step - loss: 2.7821 - accuracy: 0.1983\n",
            "Epoch 6/300\n",
            "4/4 [==============================] - 0s 99ms/step - loss: 2.7616 - accuracy: 0.1983\n",
            "Epoch 7/300\n",
            "4/4 [==============================] - 0s 55ms/step - loss: 2.7335 - accuracy: 0.1901\n",
            "Epoch 8/300\n",
            "4/4 [==============================] - 0s 51ms/step - loss: 2.7003 - accuracy: 0.1901\n",
            "Epoch 9/300\n",
            "4/4 [==============================] - 0s 58ms/step - loss: 2.6576 - accuracy: 0.1901\n",
            "Epoch 10/300\n",
            "4/4 [==============================] - 0s 102ms/step - loss: 2.6127 - accuracy: 0.1901\n",
            "Epoch 11/300\n",
            "4/4 [==============================] - 0s 55ms/step - loss: 2.5576 - accuracy: 0.1901\n",
            "Epoch 12/300\n",
            "4/4 [==============================] - 0s 57ms/step - loss: 2.5098 - accuracy: 0.1901\n",
            "Epoch 13/300\n",
            "4/4 [==============================] - 0s 6ms/step - loss: 2.4746 - accuracy: 0.1901\n",
            "Epoch 14/300\n",
            "4/4 [==============================] - 0s 6ms/step - loss: 2.4583 - accuracy: 0.1901\n",
            "Epoch 15/300\n",
            "4/4 [==============================] - 0s 6ms/step - loss: 2.4329 - accuracy: 0.1983\n",
            "Epoch 16/300\n",
            "4/4 [==============================] - 0s 6ms/step - loss: 2.3969 - accuracy: 0.2149\n",
            "Epoch 17/300\n",
            "4/4 [==============================] - 0s 9ms/step - loss: 2.3666 - accuracy: 0.2397\n",
            "Epoch 18/300\n",
            "4/4 [==============================] - 0s 79ms/step - loss: 2.3338 - accuracy: 0.2479\n",
            "Epoch 19/300\n",
            "4/4 [==============================] - 0s 7ms/step - loss: 2.2948 - accuracy: 0.2893\n",
            "Epoch 20/300\n",
            "4/4 [==============================] - 0s 6ms/step - loss: 2.2507 - accuracy: 0.3140\n",
            "Epoch 21/300\n",
            "4/4 [==============================] - 0s 6ms/step - loss: 2.2017 - accuracy: 0.3140\n",
            "Epoch 22/300\n",
            "4/4 [==============================] - 0s 56ms/step - loss: 2.1548 - accuracy: 0.3058\n",
            "Epoch 23/300\n",
            "4/4 [==============================] - 0s 6ms/step - loss: 2.0954 - accuracy: 0.3058\n",
            "Epoch 24/300\n",
            "4/4 [==============================] - 0s 7ms/step - loss: 2.0413 - accuracy: 0.3140\n",
            "Epoch 25/300\n",
            "4/4 [==============================] - 0s 54ms/step - loss: 1.9829 - accuracy: 0.3058\n",
            "Epoch 26/300\n",
            "4/4 [==============================] - 0s 7ms/step - loss: 1.9285 - accuracy: 0.3058\n",
            "Epoch 27/300\n",
            "4/4 [==============================] - 0s 6ms/step - loss: 1.8787 - accuracy: 0.3306\n",
            "Epoch 28/300\n",
            "4/4 [==============================] - 0s 6ms/step - loss: 1.8318 - accuracy: 0.3554\n",
            "Epoch 29/300\n",
            "4/4 [==============================] - 0s 6ms/step - loss: 1.7856 - accuracy: 0.3636\n",
            "Epoch 30/300\n",
            "4/4 [==============================] - 0s 5ms/step - loss: 1.7438 - accuracy: 0.3719\n",
            "Epoch 31/300\n",
            "4/4 [==============================] - 0s 7ms/step - loss: 1.6996 - accuracy: 0.4050\n",
            "Epoch 32/300\n",
            "4/4 [==============================] - 0s 6ms/step - loss: 1.6588 - accuracy: 0.4298\n",
            "Epoch 33/300\n",
            "4/4 [==============================] - 0s 7ms/step - loss: 1.6197 - accuracy: 0.4793\n",
            "Epoch 34/300\n",
            "4/4 [==============================] - 0s 6ms/step - loss: 1.5809 - accuracy: 0.5041\n",
            "Epoch 35/300\n",
            "4/4 [==============================] - 0s 6ms/step - loss: 1.5433 - accuracy: 0.5041\n",
            "Epoch 36/300\n",
            "4/4 [==============================] - 0s 6ms/step - loss: 1.5084 - accuracy: 0.5041\n",
            "Epoch 37/300\n",
            "4/4 [==============================] - 0s 6ms/step - loss: 1.4697 - accuracy: 0.5455\n",
            "Epoch 38/300\n",
            "4/4 [==============================] - 0s 6ms/step - loss: 1.4369 - accuracy: 0.5455\n",
            "Epoch 39/300\n",
            "4/4 [==============================] - 0s 7ms/step - loss: 1.4018 - accuracy: 0.5455\n",
            "Epoch 40/300\n",
            "4/4 [==============================] - 0s 6ms/step - loss: 1.3702 - accuracy: 0.5537\n",
            "Epoch 41/300\n",
            "4/4 [==============================] - 0s 6ms/step - loss: 1.3371 - accuracy: 0.5868\n",
            "Epoch 42/300\n",
            "4/4 [==============================] - 0s 54ms/step - loss: 1.3081 - accuracy: 0.5785\n",
            "Epoch 43/300\n",
            "4/4 [==============================] - 0s 55ms/step - loss: 1.2809 - accuracy: 0.6198\n",
            "Epoch 44/300\n",
            "4/4 [==============================] - 0s 6ms/step - loss: 1.2537 - accuracy: 0.6281\n",
            "Epoch 45/300\n",
            "4/4 [==============================] - 0s 6ms/step - loss: 1.2309 - accuracy: 0.6116\n",
            "Epoch 46/300\n",
            "4/4 [==============================] - 0s 6ms/step - loss: 1.2081 - accuracy: 0.6281\n",
            "Epoch 47/300\n",
            "4/4 [==============================] - 0s 6ms/step - loss: 1.1791 - accuracy: 0.7025\n",
            "Epoch 48/300\n",
            "4/4 [==============================] - 0s 7ms/step - loss: 1.1547 - accuracy: 0.6529\n",
            "Epoch 49/300\n",
            "4/4 [==============================] - 0s 7ms/step - loss: 1.1335 - accuracy: 0.6446\n",
            "Epoch 50/300\n",
            "4/4 [==============================] - 0s 6ms/step - loss: 1.1120 - accuracy: 0.6777\n",
            "Epoch 51/300\n",
            "4/4 [==============================] - 0s 7ms/step - loss: 1.0918 - accuracy: 0.7355\n",
            "Epoch 52/300\n",
            "4/4 [==============================] - 0s 6ms/step - loss: 1.0735 - accuracy: 0.6860\n",
            "Epoch 53/300\n",
            "4/4 [==============================] - 0s 52ms/step - loss: 1.0559 - accuracy: 0.7438\n",
            "Epoch 54/300\n",
            "4/4 [==============================] - 0s 6ms/step - loss: 1.0336 - accuracy: 0.7355\n",
            "Epoch 55/300\n",
            "4/4 [==============================] - 0s 6ms/step - loss: 1.0210 - accuracy: 0.7190\n",
            "Epoch 56/300\n",
            "4/4 [==============================] - 0s 51ms/step - loss: 1.0048 - accuracy: 0.7521\n",
            "Epoch 57/300\n",
            "4/4 [==============================] - 0s 6ms/step - loss: 0.9877 - accuracy: 0.7438\n",
            "Epoch 58/300\n",
            "4/4 [==============================] - 0s 6ms/step - loss: 0.9840 - accuracy: 0.7686\n",
            "Epoch 59/300\n",
            "4/4 [==============================] - 0s 7ms/step - loss: 0.9570 - accuracy: 0.7355\n",
            "Epoch 60/300\n",
            "4/4 [==============================] - 0s 6ms/step - loss: 0.9453 - accuracy: 0.7521\n",
            "Epoch 61/300\n",
            "4/4 [==============================] - 0s 7ms/step - loss: 0.9275 - accuracy: 0.8017\n",
            "Epoch 62/300\n",
            "4/4 [==============================] - 0s 6ms/step - loss: 0.9087 - accuracy: 0.7851\n",
            "Epoch 63/300\n",
            "4/4 [==============================] - 0s 6ms/step - loss: 0.8947 - accuracy: 0.7934\n",
            "Epoch 64/300\n",
            "4/4 [==============================] - 0s 6ms/step - loss: 0.8801 - accuracy: 0.7934\n",
            "Epoch 65/300\n",
            "4/4 [==============================] - 0s 6ms/step - loss: 0.8660 - accuracy: 0.8017\n",
            "Epoch 66/300\n",
            "4/4 [==============================] - 0s 6ms/step - loss: 0.8501 - accuracy: 0.8017\n",
            "Epoch 67/300\n",
            "4/4 [==============================] - 0s 6ms/step - loss: 0.8348 - accuracy: 0.8182\n",
            "Epoch 68/300\n",
            "4/4 [==============================] - 0s 6ms/step - loss: 0.8197 - accuracy: 0.8099\n",
            "Epoch 69/300\n",
            "4/4 [==============================] - 0s 6ms/step - loss: 0.8029 - accuracy: 0.8182\n",
            "Epoch 70/300\n",
            "4/4 [==============================] - 0s 6ms/step - loss: 0.7879 - accuracy: 0.8099\n",
            "Epoch 71/300\n",
            "4/4 [==============================] - 0s 7ms/step - loss: 0.7713 - accuracy: 0.8182\n",
            "Epoch 72/300\n",
            "4/4 [==============================] - 0s 6ms/step - loss: 0.7546 - accuracy: 0.8264\n",
            "Epoch 73/300\n",
            "4/4 [==============================] - 0s 6ms/step - loss: 0.7371 - accuracy: 0.8347\n",
            "Epoch 74/300\n",
            "4/4 [==============================] - 0s 6ms/step - loss: 0.7204 - accuracy: 0.8347\n",
            "Epoch 75/300\n",
            "4/4 [==============================] - 0s 6ms/step - loss: 0.7060 - accuracy: 0.8347\n",
            "Epoch 76/300\n",
            "4/4 [==============================] - 0s 8ms/step - loss: 0.6854 - accuracy: 0.8512\n",
            "Epoch 77/300\n",
            "4/4 [==============================] - 0s 7ms/step - loss: 0.6699 - accuracy: 0.8512\n",
            "Epoch 78/300\n",
            "4/4 [==============================] - 0s 6ms/step - loss: 0.6510 - accuracy: 0.8430\n",
            "Epoch 79/300\n",
            "4/4 [==============================] - 0s 6ms/step - loss: 0.6354 - accuracy: 0.8347\n",
            "Epoch 80/300\n",
            "4/4 [==============================] - 0s 6ms/step - loss: 0.6177 - accuracy: 0.8430\n",
            "Epoch 81/300\n",
            "4/4 [==============================] - 0s 6ms/step - loss: 0.6038 - accuracy: 0.8678\n",
            "Epoch 82/300\n",
            "4/4 [==============================] - 0s 6ms/step - loss: 0.5839 - accuracy: 0.9008\n",
            "Epoch 83/300\n",
            "4/4 [==============================] - 0s 7ms/step - loss: 0.5724 - accuracy: 0.8760\n",
            "Epoch 84/300\n",
            "4/4 [==============================] - 0s 6ms/step - loss: 0.5567 - accuracy: 0.8843\n",
            "Epoch 85/300\n",
            "4/4 [==============================] - 0s 6ms/step - loss: 0.5466 - accuracy: 0.8843\n",
            "Epoch 86/300\n",
            "4/4 [==============================] - 0s 6ms/step - loss: 0.5234 - accuracy: 0.9174\n",
            "Epoch 87/300\n",
            "4/4 [==============================] - 0s 6ms/step - loss: 0.5160 - accuracy: 0.9008\n",
            "Epoch 88/300\n",
            "4/4 [==============================] - 0s 6ms/step - loss: 0.4995 - accuracy: 0.9174\n",
            "Epoch 89/300\n",
            "4/4 [==============================] - 0s 9ms/step - loss: 0.4836 - accuracy: 0.9339\n",
            "Epoch 90/300\n",
            "4/4 [==============================] - 0s 6ms/step - loss: 0.4732 - accuracy: 0.9339\n",
            "Epoch 91/300\n",
            "4/4 [==============================] - 0s 6ms/step - loss: 0.4658 - accuracy: 0.9421\n",
            "Epoch 92/300\n",
            "4/4 [==============================] - 0s 8ms/step - loss: 0.4484 - accuracy: 0.9256\n",
            "Epoch 93/300\n",
            "4/4 [==============================] - 0s 6ms/step - loss: 0.4389 - accuracy: 0.9256\n",
            "Epoch 94/300\n",
            "4/4 [==============================] - 0s 6ms/step - loss: 0.4267 - accuracy: 0.9421\n",
            "Epoch 95/300\n",
            "4/4 [==============================] - 0s 6ms/step - loss: 0.4177 - accuracy: 0.9339\n",
            "Epoch 96/300\n",
            "4/4 [==============================] - 0s 6ms/step - loss: 0.4101 - accuracy: 0.9669\n",
            "Epoch 97/300\n",
            "4/4 [==============================] - 0s 6ms/step - loss: 0.4003 - accuracy: 0.9504\n",
            "Epoch 98/300\n",
            "4/4 [==============================] - 0s 6ms/step - loss: 0.3902 - accuracy: 0.9421\n",
            "Epoch 99/300\n",
            "4/4 [==============================] - 0s 6ms/step - loss: 0.3777 - accuracy: 0.9504\n",
            "Epoch 100/300\n",
            "4/4 [==============================] - 0s 6ms/step - loss: 0.3685 - accuracy: 0.9504\n",
            "Epoch 101/300\n",
            "4/4 [==============================] - 0s 6ms/step - loss: 0.3609 - accuracy: 0.9669\n",
            "Epoch 102/300\n",
            "4/4 [==============================] - 0s 6ms/step - loss: 0.3504 - accuracy: 0.9669\n",
            "Epoch 103/300\n",
            "4/4 [==============================] - 0s 6ms/step - loss: 0.3411 - accuracy: 0.9669\n",
            "Epoch 104/300\n",
            "4/4 [==============================] - 0s 6ms/step - loss: 0.3324 - accuracy: 0.9752\n",
            "Epoch 105/300\n",
            "4/4 [==============================] - 0s 6ms/step - loss: 0.3248 - accuracy: 0.9669\n",
            "Epoch 106/300\n",
            "4/4 [==============================] - 0s 6ms/step - loss: 0.3167 - accuracy: 0.9752\n",
            "Epoch 107/300\n",
            "4/4 [==============================] - 0s 7ms/step - loss: 0.3092 - accuracy: 0.9752\n",
            "Epoch 108/300\n",
            "4/4 [==============================] - 0s 6ms/step - loss: 0.3021 - accuracy: 0.9752\n",
            "Epoch 109/300\n",
            "4/4 [==============================] - 0s 6ms/step - loss: 0.3008 - accuracy: 0.9752\n",
            "Epoch 110/300\n",
            "4/4 [==============================] - 0s 6ms/step - loss: 0.3097 - accuracy: 0.9669\n",
            "Epoch 111/300\n",
            "4/4 [==============================] - 0s 6ms/step - loss: 0.3071 - accuracy: 0.9669\n",
            "Epoch 112/300\n",
            "4/4 [==============================] - 0s 6ms/step - loss: 0.2932 - accuracy: 0.9752\n",
            "Epoch 113/300\n",
            "4/4 [==============================] - 0s 6ms/step - loss: 0.2773 - accuracy: 0.9669\n",
            "Epoch 114/300\n",
            "4/4 [==============================] - 0s 6ms/step - loss: 0.2697 - accuracy: 0.9752\n",
            "Epoch 115/300\n",
            "4/4 [==============================] - 0s 6ms/step - loss: 0.2555 - accuracy: 0.9752\n",
            "Epoch 116/300\n",
            "4/4 [==============================] - 0s 5ms/step - loss: 0.2519 - accuracy: 0.9669\n",
            "Epoch 117/300\n",
            "4/4 [==============================] - 0s 5ms/step - loss: 0.2522 - accuracy: 0.9752\n",
            "Epoch 118/300\n",
            "4/4 [==============================] - 0s 5ms/step - loss: 0.2367 - accuracy: 0.9752\n",
            "Epoch 119/300\n",
            "4/4 [==============================] - 0s 7ms/step - loss: 0.2394 - accuracy: 0.9752\n",
            "Epoch 120/300\n",
            "4/4 [==============================] - 0s 7ms/step - loss: 0.2353 - accuracy: 0.9669\n",
            "Epoch 121/300\n",
            "4/4 [==============================] - 0s 9ms/step - loss: 0.2241 - accuracy: 0.9917\n",
            "Epoch 122/300\n",
            "4/4 [==============================] - 0s 7ms/step - loss: 0.2220 - accuracy: 0.9835\n",
            "Epoch 123/300\n",
            "4/4 [==============================] - 0s 8ms/step - loss: 0.2130 - accuracy: 0.9835\n",
            "Epoch 124/300\n",
            "4/4 [==============================] - 0s 9ms/step - loss: 0.2097 - accuracy: 0.9835\n",
            "Epoch 125/300\n",
            "4/4 [==============================] - 0s 9ms/step - loss: 0.2042 - accuracy: 0.9752\n",
            "Epoch 126/300\n",
            "4/4 [==============================] - 0s 8ms/step - loss: 0.1989 - accuracy: 0.9835\n",
            "Epoch 127/300\n",
            "4/4 [==============================] - 0s 7ms/step - loss: 0.1962 - accuracy: 0.9835\n",
            "Epoch 128/300\n",
            "4/4 [==============================] - 0s 7ms/step - loss: 0.1910 - accuracy: 0.9835\n",
            "Epoch 129/300\n",
            "4/4 [==============================] - 0s 8ms/step - loss: 0.1879 - accuracy: 0.9835\n",
            "Epoch 130/300\n",
            "4/4 [==============================] - 0s 79ms/step - loss: 0.1842 - accuracy: 0.9835\n",
            "Epoch 131/300\n",
            "4/4 [==============================] - 0s 8ms/step - loss: 0.1791 - accuracy: 0.9917\n",
            "Epoch 132/300\n",
            "4/4 [==============================] - 0s 7ms/step - loss: 0.1760 - accuracy: 0.9835\n",
            "Epoch 133/300\n",
            "4/4 [==============================] - 0s 8ms/step - loss: 0.1733 - accuracy: 0.9752\n",
            "Epoch 134/300\n",
            "4/4 [==============================] - 0s 7ms/step - loss: 0.1692 - accuracy: 0.9835\n",
            "Epoch 135/300\n",
            "4/4 [==============================] - 0s 7ms/step - loss: 0.1656 - accuracy: 0.9752\n",
            "Epoch 136/300\n",
            "4/4 [==============================] - 0s 8ms/step - loss: 0.1624 - accuracy: 0.9752\n",
            "Epoch 137/300\n",
            "4/4 [==============================] - 0s 7ms/step - loss: 0.1589 - accuracy: 0.9835\n",
            "Epoch 138/300\n",
            "4/4 [==============================] - 0s 7ms/step - loss: 0.1586 - accuracy: 0.9917\n",
            "Epoch 139/300\n",
            "4/4 [==============================] - 0s 9ms/step - loss: 0.1551 - accuracy: 0.9835\n",
            "Epoch 140/300\n",
            "4/4 [==============================] - 0s 8ms/step - loss: 0.1526 - accuracy: 0.9835\n",
            "Epoch 141/300\n",
            "4/4 [==============================] - 0s 8ms/step - loss: 0.1547 - accuracy: 0.9917\n",
            "Epoch 142/300\n",
            "4/4 [==============================] - 0s 8ms/step - loss: 0.1483 - accuracy: 0.9752\n",
            "Epoch 143/300\n",
            "4/4 [==============================] - 0s 7ms/step - loss: 0.1474 - accuracy: 0.9835\n",
            "Epoch 144/300\n",
            "4/4 [==============================] - 0s 8ms/step - loss: 0.1382 - accuracy: 0.9917\n",
            "Epoch 145/300\n",
            "4/4 [==============================] - 0s 83ms/step - loss: 0.1422 - accuracy: 0.9917\n",
            "Epoch 146/300\n",
            "4/4 [==============================] - 0s 10ms/step - loss: 0.1343 - accuracy: 0.9917\n",
            "Epoch 147/300\n",
            "4/4 [==============================] - 0s 8ms/step - loss: 0.1356 - accuracy: 0.9917\n",
            "Epoch 148/300\n",
            "4/4 [==============================] - 0s 8ms/step - loss: 0.1314 - accuracy: 0.9917\n",
            "Epoch 149/300\n",
            "4/4 [==============================] - 0s 8ms/step - loss: 0.1316 - accuracy: 0.9917\n",
            "Epoch 150/300\n",
            "4/4 [==============================] - 0s 8ms/step - loss: 0.1314 - accuracy: 0.9835\n",
            "Epoch 151/300\n",
            "4/4 [==============================] - 0s 8ms/step - loss: 0.1274 - accuracy: 0.9917\n",
            "Epoch 152/300\n",
            "4/4 [==============================] - 0s 8ms/step - loss: 0.1250 - accuracy: 0.9917\n",
            "Epoch 153/300\n",
            "4/4 [==============================] - 0s 9ms/step - loss: 0.1208 - accuracy: 0.9917\n",
            "Epoch 154/300\n",
            "4/4 [==============================] - 0s 8ms/step - loss: 0.1197 - accuracy: 0.9835\n",
            "Epoch 155/300\n",
            "4/4 [==============================] - 0s 7ms/step - loss: 0.1172 - accuracy: 0.9917\n",
            "Epoch 156/300\n",
            "4/4 [==============================] - 0s 8ms/step - loss: 0.1166 - accuracy: 0.9917\n",
            "Epoch 157/300\n",
            "4/4 [==============================] - 0s 8ms/step - loss: 0.1146 - accuracy: 0.9917\n",
            "Epoch 158/300\n",
            "4/4 [==============================] - 0s 8ms/step - loss: 0.1123 - accuracy: 0.9917\n",
            "Epoch 159/300\n",
            "4/4 [==============================] - 0s 7ms/step - loss: 0.1103 - accuracy: 0.9917\n",
            "Epoch 160/300\n",
            "4/4 [==============================] - 0s 8ms/step - loss: 0.1087 - accuracy: 0.9917\n",
            "Epoch 161/300\n",
            "4/4 [==============================] - 0s 7ms/step - loss: 0.1081 - accuracy: 0.9917\n",
            "Epoch 162/300\n",
            "4/4 [==============================] - 0s 8ms/step - loss: 0.1067 - accuracy: 0.9917\n",
            "Epoch 163/300\n",
            "4/4 [==============================] - 0s 8ms/step - loss: 0.1054 - accuracy: 0.9917\n",
            "Epoch 164/300\n",
            "4/4 [==============================] - 0s 8ms/step - loss: 0.1029 - accuracy: 0.9917\n",
            "Epoch 165/300\n",
            "4/4 [==============================] - 0s 7ms/step - loss: 0.1018 - accuracy: 0.9917\n",
            "Epoch 166/300\n",
            "4/4 [==============================] - 0s 7ms/step - loss: 0.1003 - accuracy: 0.9917\n",
            "Epoch 167/300\n",
            "4/4 [==============================] - 0s 7ms/step - loss: 0.0981 - accuracy: 0.9917\n",
            "Epoch 168/300\n",
            "4/4 [==============================] - 0s 8ms/step - loss: 0.0980 - accuracy: 0.9835\n",
            "Epoch 169/300\n",
            "4/4 [==============================] - 0s 8ms/step - loss: 0.0960 - accuracy: 0.9917\n",
            "Epoch 170/300\n",
            "4/4 [==============================] - 0s 9ms/step - loss: 0.0957 - accuracy: 0.9917\n",
            "Epoch 171/300\n",
            "4/4 [==============================] - 0s 7ms/step - loss: 0.0932 - accuracy: 0.9917\n",
            "Epoch 172/300\n",
            "4/4 [==============================] - 0s 9ms/step - loss: 0.0923 - accuracy: 0.9917\n",
            "Epoch 173/300\n",
            "4/4 [==============================] - 0s 7ms/step - loss: 0.0923 - accuracy: 0.9835\n",
            "Epoch 174/300\n",
            "4/4 [==============================] - 0s 7ms/step - loss: 0.0897 - accuracy: 0.9917\n",
            "Epoch 175/300\n",
            "4/4 [==============================] - 0s 8ms/step - loss: 0.0901 - accuracy: 0.9835\n",
            "Epoch 176/300\n",
            "4/4 [==============================] - 0s 8ms/step - loss: 0.0890 - accuracy: 0.9835\n",
            "Epoch 177/300\n",
            "4/4 [==============================] - 0s 8ms/step - loss: 0.0867 - accuracy: 0.9917\n",
            "Epoch 178/300\n",
            "4/4 [==============================] - 0s 8ms/step - loss: 0.0876 - accuracy: 0.9917\n",
            "Epoch 179/300\n",
            "4/4 [==============================] - 0s 8ms/step - loss: 0.0838 - accuracy: 0.9917\n",
            "Epoch 180/300\n",
            "4/4 [==============================] - 0s 8ms/step - loss: 0.0834 - accuracy: 0.9917\n",
            "Epoch 181/300\n",
            "4/4 [==============================] - 0s 8ms/step - loss: 0.0821 - accuracy: 0.9917\n",
            "Epoch 182/300\n",
            "4/4 [==============================] - 0s 9ms/step - loss: 0.0814 - accuracy: 0.9835\n",
            "Epoch 183/300\n",
            "4/4 [==============================] - 0s 8ms/step - loss: 0.0800 - accuracy: 0.9917\n",
            "Epoch 184/300\n",
            "4/4 [==============================] - 0s 7ms/step - loss: 0.0789 - accuracy: 0.9917\n",
            "Epoch 185/300\n",
            "4/4 [==============================] - 0s 8ms/step - loss: 0.0786 - accuracy: 0.9917\n",
            "Epoch 186/300\n",
            "4/4 [==============================] - 0s 9ms/step - loss: 0.0772 - accuracy: 0.9917\n",
            "Epoch 187/300\n",
            "4/4 [==============================] - 0s 7ms/step - loss: 0.0764 - accuracy: 0.9835\n",
            "Epoch 188/300\n",
            "4/4 [==============================] - 0s 7ms/step - loss: 0.0768 - accuracy: 0.9917\n",
            "Epoch 189/300\n",
            "4/4 [==============================] - 0s 8ms/step - loss: 0.0749 - accuracy: 0.9917\n",
            "Epoch 190/300\n",
            "4/4 [==============================] - 0s 7ms/step - loss: 0.0735 - accuracy: 0.9917\n",
            "Epoch 191/300\n",
            "4/4 [==============================] - 0s 7ms/step - loss: 0.0730 - accuracy: 0.9917\n",
            "Epoch 192/300\n",
            "4/4 [==============================] - 0s 7ms/step - loss: 0.0731 - accuracy: 0.9835\n",
            "Epoch 193/300\n",
            "4/4 [==============================] - 0s 8ms/step - loss: 0.0715 - accuracy: 0.9917\n",
            "Epoch 194/300\n",
            "4/4 [==============================] - 0s 7ms/step - loss: 0.0718 - accuracy: 0.9917\n",
            "Epoch 195/300\n",
            "4/4 [==============================] - 0s 8ms/step - loss: 0.0693 - accuracy: 0.9917\n",
            "Epoch 196/300\n",
            "4/4 [==============================] - 0s 8ms/step - loss: 0.0690 - accuracy: 0.9917\n",
            "Epoch 197/300\n",
            "4/4 [==============================] - 0s 7ms/step - loss: 0.0681 - accuracy: 0.9917\n",
            "Epoch 198/300\n",
            "4/4 [==============================] - 0s 8ms/step - loss: 0.0683 - accuracy: 0.9835\n",
            "Epoch 199/300\n",
            "4/4 [==============================] - 0s 10ms/step - loss: 0.0669 - accuracy: 0.9835\n",
            "Epoch 200/300\n",
            "4/4 [==============================] - 0s 9ms/step - loss: 0.0667 - accuracy: 0.9917\n",
            "Epoch 201/300\n",
            "4/4 [==============================] - 0s 8ms/step - loss: 0.0651 - accuracy: 0.9917\n",
            "Epoch 202/300\n",
            "4/4 [==============================] - 0s 8ms/step - loss: 0.0661 - accuracy: 0.9917\n",
            "Epoch 203/300\n",
            "4/4 [==============================] - 0s 8ms/step - loss: 0.0641 - accuracy: 0.9917\n",
            "Epoch 204/300\n",
            "4/4 [==============================] - 0s 8ms/step - loss: 0.0639 - accuracy: 0.9917\n",
            "Epoch 205/300\n",
            "4/4 [==============================] - 0s 9ms/step - loss: 0.0625 - accuracy: 0.9917\n",
            "Epoch 206/300\n",
            "4/4 [==============================] - 0s 8ms/step - loss: 0.0627 - accuracy: 0.9917\n",
            "Epoch 207/300\n",
            "4/4 [==============================] - 0s 8ms/step - loss: 0.0625 - accuracy: 0.9835\n",
            "Epoch 208/300\n",
            "4/4 [==============================] - 0s 7ms/step - loss: 0.0623 - accuracy: 0.9917\n",
            "Epoch 209/300\n",
            "4/4 [==============================] - 0s 8ms/step - loss: 0.0612 - accuracy: 0.9917\n",
            "Epoch 210/300\n",
            "4/4 [==============================] - 0s 7ms/step - loss: 0.0605 - accuracy: 0.9917\n",
            "Epoch 211/300\n",
            "4/4 [==============================] - 0s 8ms/step - loss: 0.0596 - accuracy: 0.9917\n",
            "Epoch 212/300\n",
            "4/4 [==============================] - 0s 7ms/step - loss: 0.0593 - accuracy: 0.9917\n",
            "Epoch 213/300\n",
            "4/4 [==============================] - 0s 7ms/step - loss: 0.0587 - accuracy: 0.9917\n",
            "Epoch 214/300\n",
            "4/4 [==============================] - 0s 7ms/step - loss: 0.0590 - accuracy: 0.9917\n",
            "Epoch 215/300\n",
            "4/4 [==============================] - 0s 7ms/step - loss: 0.0568 - accuracy: 0.9917\n",
            "Epoch 216/300\n",
            "4/4 [==============================] - 0s 7ms/step - loss: 0.0577 - accuracy: 0.9917\n",
            "Epoch 217/300\n",
            "4/4 [==============================] - 0s 7ms/step - loss: 0.0557 - accuracy: 0.9917\n",
            "Epoch 218/300\n",
            "4/4 [==============================] - 0s 7ms/step - loss: 0.0589 - accuracy: 0.9917\n",
            "Epoch 219/300\n",
            "4/4 [==============================] - 0s 7ms/step - loss: 0.0555 - accuracy: 0.9917\n",
            "Epoch 220/300\n",
            "4/4 [==============================] - 0s 7ms/step - loss: 0.0553 - accuracy: 1.0000\n",
            "Epoch 221/300\n",
            "4/4 [==============================] - 0s 7ms/step - loss: 0.0548 - accuracy: 0.9835\n",
            "Epoch 222/300\n",
            "4/4 [==============================] - 0s 8ms/step - loss: 0.0553 - accuracy: 0.9917\n",
            "Epoch 223/300\n",
            "4/4 [==============================] - 0s 7ms/step - loss: 0.0548 - accuracy: 0.9917\n",
            "Epoch 224/300\n",
            "4/4 [==============================] - 0s 7ms/step - loss: 0.0540 - accuracy: 0.9917\n",
            "Epoch 225/300\n",
            "4/4 [==============================] - 0s 7ms/step - loss: 0.0522 - accuracy: 0.9917\n",
            "Epoch 226/300\n",
            "4/4 [==============================] - 0s 7ms/step - loss: 0.0520 - accuracy: 0.9835\n",
            "Epoch 227/300\n",
            "4/4 [==============================] - 0s 7ms/step - loss: 0.0516 - accuracy: 0.9835\n",
            "Epoch 228/300\n",
            "4/4 [==============================] - 0s 7ms/step - loss: 0.0531 - accuracy: 0.9835\n",
            "Epoch 229/300\n",
            "4/4 [==============================] - 0s 7ms/step - loss: 0.0505 - accuracy: 0.9917\n",
            "Epoch 230/300\n",
            "4/4 [==============================] - 0s 7ms/step - loss: 0.0499 - accuracy: 0.9917\n",
            "Epoch 231/300\n",
            "4/4 [==============================] - 0s 7ms/step - loss: 0.0503 - accuracy: 0.9917\n",
            "Epoch 232/300\n",
            "4/4 [==============================] - 0s 8ms/step - loss: 0.0498 - accuracy: 0.9835\n",
            "Epoch 233/300\n",
            "4/4 [==============================] - 0s 7ms/step - loss: 0.0497 - accuracy: 0.9917\n",
            "Epoch 234/300\n",
            "4/4 [==============================] - 0s 7ms/step - loss: 0.0482 - accuracy: 0.9917\n",
            "Epoch 235/300\n",
            "4/4 [==============================] - 0s 7ms/step - loss: 0.0480 - accuracy: 0.9917\n",
            "Epoch 236/300\n",
            "4/4 [==============================] - 0s 7ms/step - loss: 0.0480 - accuracy: 0.9835\n",
            "Epoch 237/300\n",
            "4/4 [==============================] - 0s 7ms/step - loss: 0.0470 - accuracy: 0.9917\n",
            "Epoch 238/300\n",
            "4/4 [==============================] - 0s 9ms/step - loss: 0.0479 - accuracy: 0.9917\n",
            "Epoch 239/300\n",
            "4/4 [==============================] - 0s 7ms/step - loss: 0.0459 - accuracy: 0.9917\n",
            "Epoch 240/300\n",
            "4/4 [==============================] - 0s 8ms/step - loss: 0.0468 - accuracy: 0.9835\n",
            "Epoch 241/300\n",
            "4/4 [==============================] - 0s 8ms/step - loss: 0.0463 - accuracy: 0.9917\n",
            "Epoch 242/300\n",
            "4/4 [==============================] - 0s 8ms/step - loss: 0.0454 - accuracy: 0.9835\n",
            "Epoch 243/300\n",
            "4/4 [==============================] - 0s 7ms/step - loss: 0.0461 - accuracy: 0.9835\n",
            "Epoch 244/300\n",
            "4/4 [==============================] - 0s 7ms/step - loss: 0.0455 - accuracy: 0.9835\n",
            "Epoch 245/300\n",
            "4/4 [==============================] - 0s 7ms/step - loss: 0.0458 - accuracy: 0.9917\n",
            "Epoch 246/300\n",
            "4/4 [==============================] - 0s 7ms/step - loss: 0.0443 - accuracy: 0.9917\n",
            "Epoch 247/300\n",
            "4/4 [==============================] - 0s 7ms/step - loss: 0.0439 - accuracy: 0.9917\n",
            "Epoch 248/300\n",
            "4/4 [==============================] - 0s 8ms/step - loss: 0.0438 - accuracy: 0.9917\n",
            "Epoch 249/300\n",
            "4/4 [==============================] - 0s 8ms/step - loss: 0.0431 - accuracy: 0.9917\n",
            "Epoch 250/300\n",
            "4/4 [==============================] - 0s 8ms/step - loss: 0.0435 - accuracy: 0.9917\n",
            "Epoch 251/300\n",
            "4/4 [==============================] - 0s 8ms/step - loss: 0.0424 - accuracy: 0.9917\n",
            "Epoch 252/300\n",
            "4/4 [==============================] - 0s 10ms/step - loss: 0.0423 - accuracy: 0.9917\n",
            "Epoch 253/300\n",
            "4/4 [==============================] - 0s 9ms/step - loss: 0.0420 - accuracy: 0.9917\n",
            "Epoch 254/300\n",
            "4/4 [==============================] - 0s 8ms/step - loss: 0.0418 - accuracy: 0.9917\n",
            "Epoch 255/300\n",
            "4/4 [==============================] - 0s 9ms/step - loss: 0.0417 - accuracy: 0.9917\n",
            "Epoch 256/300\n",
            "4/4 [==============================] - 0s 8ms/step - loss: 0.0412 - accuracy: 0.9835\n",
            "Epoch 257/300\n",
            "4/4 [==============================] - 0s 9ms/step - loss: 0.0409 - accuracy: 0.9835\n",
            "Epoch 258/300\n",
            "4/4 [==============================] - 0s 9ms/step - loss: 0.0403 - accuracy: 0.9917\n",
            "Epoch 259/300\n",
            "4/4 [==============================] - 0s 8ms/step - loss: 0.0407 - accuracy: 0.9917\n",
            "Epoch 260/300\n",
            "4/4 [==============================] - 0s 6ms/step - loss: 0.0397 - accuracy: 0.9917\n",
            "Epoch 261/300\n",
            "4/4 [==============================] - 0s 8ms/step - loss: 0.0399 - accuracy: 0.9917\n",
            "Epoch 262/300\n",
            "4/4 [==============================] - 0s 8ms/step - loss: 0.0398 - accuracy: 0.9835\n",
            "Epoch 263/300\n",
            "4/4 [==============================] - 0s 6ms/step - loss: 0.0403 - accuracy: 0.9917\n",
            "Epoch 264/300\n",
            "4/4 [==============================] - 0s 6ms/step - loss: 0.0393 - accuracy: 0.9917\n",
            "Epoch 265/300\n",
            "4/4 [==============================] - 0s 7ms/step - loss: 0.0393 - accuracy: 0.9835\n",
            "Epoch 266/300\n",
            "4/4 [==============================] - 0s 6ms/step - loss: 0.0400 - accuracy: 0.9917\n",
            "Epoch 267/300\n",
            "4/4 [==============================] - 0s 6ms/step - loss: 0.0380 - accuracy: 0.9917\n",
            "Epoch 268/300\n",
            "4/4 [==============================] - 0s 6ms/step - loss: 0.0381 - accuracy: 0.9835\n",
            "Epoch 269/300\n",
            "4/4 [==============================] - 0s 6ms/step - loss: 0.0376 - accuracy: 0.9917\n",
            "Epoch 270/300\n",
            "4/4 [==============================] - 0s 6ms/step - loss: 0.0376 - accuracy: 0.9917\n",
            "Epoch 271/300\n",
            "4/4 [==============================] - 0s 53ms/step - loss: 0.0369 - accuracy: 0.9917\n",
            "Epoch 272/300\n",
            "4/4 [==============================] - 0s 6ms/step - loss: 0.0371 - accuracy: 0.9835\n",
            "Epoch 273/300\n",
            "4/4 [==============================] - 0s 6ms/step - loss: 0.0365 - accuracy: 0.9917\n",
            "Epoch 274/300\n",
            "4/4 [==============================] - 0s 7ms/step - loss: 0.0373 - accuracy: 0.9835\n",
            "Epoch 275/300\n",
            "4/4 [==============================] - 0s 7ms/step - loss: 0.0373 - accuracy: 0.9835\n",
            "Epoch 276/300\n",
            "4/4 [==============================] - 0s 6ms/step - loss: 0.0368 - accuracy: 0.9917\n",
            "Epoch 277/300\n",
            "4/4 [==============================] - 0s 7ms/step - loss: 0.0370 - accuracy: 0.9835\n",
            "Epoch 278/300\n",
            "4/4 [==============================] - 0s 9ms/step - loss: 0.0372 - accuracy: 0.9917\n",
            "Epoch 279/300\n",
            "4/4 [==============================] - 0s 6ms/step - loss: 0.0351 - accuracy: 0.9835\n",
            "Epoch 280/300\n",
            "4/4 [==============================] - 0s 7ms/step - loss: 0.0357 - accuracy: 0.9917\n",
            "Epoch 281/300\n",
            "4/4 [==============================] - 0s 6ms/step - loss: 0.0361 - accuracy: 0.9917\n",
            "Epoch 282/300\n",
            "4/4 [==============================] - 0s 6ms/step - loss: 0.0372 - accuracy: 0.9835\n",
            "Epoch 283/300\n",
            "4/4 [==============================] - 0s 8ms/step - loss: 0.0357 - accuracy: 0.9917\n",
            "Epoch 284/300\n",
            "4/4 [==============================] - 0s 6ms/step - loss: 0.0345 - accuracy: 0.9917\n",
            "Epoch 285/300\n",
            "4/4 [==============================] - 0s 6ms/step - loss: 0.0342 - accuracy: 0.9917\n",
            "Epoch 286/300\n",
            "4/4 [==============================] - 0s 6ms/step - loss: 0.0342 - accuracy: 0.9917\n",
            "Epoch 287/300\n",
            "4/4 [==============================] - 0s 6ms/step - loss: 0.0343 - accuracy: 0.9917\n",
            "Epoch 288/300\n",
            "4/4 [==============================] - 0s 6ms/step - loss: 0.0338 - accuracy: 0.9917\n",
            "Epoch 289/300\n",
            "4/4 [==============================] - 0s 5ms/step - loss: 0.0337 - accuracy: 0.9835\n",
            "Epoch 290/300\n",
            "4/4 [==============================] - 0s 6ms/step - loss: 0.0336 - accuracy: 0.9917\n",
            "Epoch 291/300\n",
            "4/4 [==============================] - 0s 6ms/step - loss: 0.0328 - accuracy: 0.9917\n",
            "Epoch 292/300\n",
            "4/4 [==============================] - 0s 6ms/step - loss: 0.0338 - accuracy: 0.9917\n",
            "Epoch 293/300\n",
            "4/4 [==============================] - 0s 6ms/step - loss: 0.0334 - accuracy: 0.9917\n",
            "Epoch 294/300\n",
            "4/4 [==============================] - 0s 6ms/step - loss: 0.0326 - accuracy: 0.9917\n",
            "Epoch 295/300\n",
            "4/4 [==============================] - 0s 7ms/step - loss: 0.0326 - accuracy: 0.9917\n",
            "Epoch 296/300\n",
            "4/4 [==============================] - 0s 6ms/step - loss: 0.0324 - accuracy: 0.9917\n",
            "Epoch 297/300\n",
            "4/4 [==============================] - 0s 6ms/step - loss: 0.0322 - accuracy: 0.9917\n",
            "Epoch 298/300\n",
            "4/4 [==============================] - 0s 6ms/step - loss: 0.0321 - accuracy: 0.9835\n",
            "Epoch 299/300\n",
            "4/4 [==============================] - 0s 8ms/step - loss: 0.0319 - accuracy: 0.9917\n",
            "Epoch 300/300\n",
            "4/4 [==============================] - 0s 6ms/step - loss: 0.0332 - accuracy: 0.9835\n"
          ]
        }
      ],
      "source": [
        "# Training model (Latih data model sampai 300 kal i)\n",
        "train = model.fit  (  x_train  ,   y_train  ,   epochs=  300 )"
      ]
    },
    {
      "cell_type": "markdown",
      "source": [
        "Setelah dilakukan training model, hasil akurasi nya mendapatkan 0.9915 atau sebesar 99% dengan loss 0.0120"
      ],
      "metadata": {
        "id": "pNRJrRwN-INk"
      }
    },
    {
      "cell_type": "markdown",
      "metadata": {
        "id": "ctb4hE4Prqd_"
      },
      "source": [
        "## **Model Analysis**"
      ]
    },
    {
      "cell_type": "markdown",
      "source": [
        "Menampilkan hasil akurasi dari training model sebelumnya dan diimplementasikan kedalam sebuah plot"
      ],
      "metadata": {
        "id": "3WNXkFoc69ab"
      }
    },
    {
      "cell_type": "code",
      "execution_count": null,
      "metadata": {
        "id": "BuMVdqNlMjBg",
        "colab": {
          "base_uri": "https://localhost:8080/",
          "height": 391
        },
        "outputId": "fb8b0ffd-3d48-42e9-d613-49456d083766"
      },
      "outputs": [
        {
          "output_type": "display_data",
          "data": {
            "text/plain": [
              "<Figure size 1000x400 with 2 Axes>"
            ],
            "image/png": "[encoded data removed]"
          },
          "metadata": {}
        }
      ],
      "source": [
        "plt.figure(figsize=(10,4))\n",
        "plt.subplot(1, 2, 1)\n",
        "plt.plot(train.history['accuracy'],label='Accuracy')\n",
        "#plt.plot(train.history['val_accuracy'],label='Testing Set Accuracy')\n",
        "plt.legend(loc='lower right')\n",
        "plt.title('Accuracy')\n",
        "\n",
        "plt.subplot(1, 2, 2)\n",
        "plt.plot(train.history['loss'],label='Loss')\n",
        "#plt.plot(train.history['val_loss'],label='Testing Set Loss')\n",
        "plt.legend(loc='upper right')\n",
        "plt.title('Loss')\n",
        "plt.show()"
      ]
    },
    {
      "cell_type": "markdown",
      "metadata": {
        "id": "FgwE-gF1rlkh"
      },
      "source": [
        "## **Testing Chatbot**"
      ]
    },
    {
      "cell_type": "markdown",
      "source": [
        "Setelah mengetahui hasil dari akurasi dan loss pada model yang telah ditetapkan dengan algoritma Neural Network dan LSTM. Maka, tahapan selanjutnya adalah menguji atau testing pada chatbot yang telah dilatih sebelumnya dan melihat apakah sesuai atau tidak pada saat kita masukan teks kalimat pertanyaannya.\n",
        "\n",
        "Pada pengujian ini menggunakan metode input atau masukan sesuai dengan kalimat pertanyaan yang dimasukkan."
      ],
      "metadata": {
        "id": "9Rgra0wu7jUb"
      }
    },
    {
      "cell_type": "code",
      "execution_count": null,
      "metadata": {
        "id": "bv1sRiH3MudH",
        "colab": {
          "base_uri": "https://localhost:8080/"
        },
        "outputId": "91296021-c0a3-49a1-b3f2-1ca26679927e"
      },
      "outputs": [
        {
          "output_type": "stream",
          "name": "stdout",
          "text": [
            "👩🏻/🧑🏻Kamu : p\n",
            "1/1 [==============================] - 1s 507ms/step\n",
            "🤖 Chatbot :  Hello! Bagaimana saya dapat membantu Anda dengan kebutuhan fashion Anda hari ini?\n",
            "👩🏻/🧑🏻Kamu : rekomendasi baju\n",
            "1/1 [==============================] - 0s 21ms/step\n",
            "🤖 Chatbot :  Baju dengan motif kotak-kotak dari Brand K sangat tren saat ini.\n",
            "👩🏻/🧑🏻Kamu : rekomendasi kacamata\n",
            "1/1 [==============================] - 0s 17ms/step\n",
            "🤖 Chatbot :  Sepatu casual dari Brand Z adalah pilihan yang bagus untuk tampilan sehari-hari.\n",
            "👩🏻/🧑🏻Kamu : saya gatau stylebot\n",
            "1/1 [==============================] - 0s 18ms/step\n",
            "🤖 Chatbot :  StyleBot adalah aplikasi berbasis web yang membantu pengguna dalam menemukan dan merekomendasikan produk fashion sesuai dengan selera dan kebutuhan mereka.\n",
            "👩🏻/🧑🏻Kamu : ok makasih ya\n",
            "1/1 [==============================] - 0s 23ms/step\n",
            "🤖 Chatbot :  Terimakasih banyak! Kami senang bisa menjadi bagian dari perjalanan Anda.\n"
          ]
        }
      ],
      "source": [
        "# Membuat Input Chat\n",
        "while True:\n",
        "  texts_p = []\n",
        "  prediction_input = input('👩🏻/🧑🏻Kamu : ')\n",
        "\n",
        "  # Menghapus punktuasi dan konversi ke huruf kecil\n",
        "  prediction_input = [letters.lower() for letters in prediction_input if letters not in string.punctuation]\n",
        "  prediction_input = ''.join(prediction_input)\n",
        "  texts_p.append(prediction_input)\n",
        "\n",
        "  # Tokenisasi dan Padding\n",
        "  prediction_input = tokenizer.texts_to_sequences(texts_p)\n",
        "  prediction_input = np.array(prediction_input).reshape(-1)\n",
        "  prediction_input = pad_sequences([prediction_input],input_shape)\n",
        "\n",
        "  # Mendapatkan hasil keluaran pada model\n",
        "  output = model.predict(prediction_input)\n",
        "  output = output.argmax()\n",
        "\n",
        "  # Menemukan respon sesuai data tag\n",
        "  response_tag = le.inverse_transform([output])[0]\n",
        "  print(\"🤖 Chatbot : \", random.choice(responses[response_tag]))\n",
        "\n",
        "  # Tambahkan respon agar bot bisa berhenti\n",
        "  if response_tag == \"terimakasih\":\n",
        "    break\n"
      ]
    },
    {
      "cell_type": "markdown",
      "source": [
        "##**Save the Model**"
      ],
      "metadata": {
        "id": "ysM_wkd0_R-r"
      }
    },
    {
      "cell_type": "markdown",
      "source": [
        "Setelah pengujian Chatbot telah disesuaikan dengan kalimat dan jawabannya. Maka, model chatbot bisa disimpan dengan format .h5 atau .pkl (pickle) untuk penggunaan aplikasi AI Chatbot dengan website atau sistem Android. Penyimpanan file model bisa langsung secara transient atau bisa taruh di Google Drive."
      ],
      "metadata": {
        "id": "YX0tGX11-7yb"
      }
    },
    {
      "cell_type": "code",
      "source": [
        "# Simpan model dalam bentuk format file .h5 atau .pkl (pickle)\n",
        "model.save('/content/drive/MyDrive/Colab Notebooks/STYLEBOT/model/chat_model.h5')\n",
        "\n",
        "print('Model Created Successfully!')"
      ],
      "metadata": {
        "id": "Qf03XOEw_Mty",
        "colab": {
          "base_uri": "https://localhost:8080/"
        },
        "outputId": "2ed9e1dc-389b-417d-cd5d-ec018a11f8da"
      },
      "execution_count": null,
      "outputs": [
        {
          "output_type": "stream",
          "name": "stdout",
          "text": [
            "Model Created Successfully!\n"
          ]
        },
        {
          "output_type": "stream",
          "name": "stderr",
          "text": [
            "/usr/local/lib/python3.10/dist-packages/keras/src/engine/training.py:3079: UserWarning: You are saving your model as an HDF5 file via `model.save()`. This file format is considered legacy. We recommend using instead the native Keras format, e.g. `model.save('my_model.keras')`.\n",
            "  saving_api.save_model(\n"
          ]
        }
      ]
    }
  ],
  "metadata": {
    "colab": {
      "provenance": [],
      "collapsed_sections": [
        "P-WOj9sLqqv8",
        "C68w2Qnjqwio",
        "6GfoFPBwo5dx",
        "IYlRfAKwq2fM",
        "k1rJMPnbq6Nu",
        "GrRYCQJGrDWm",
        "Q-lojn23pfMo",
        "XlStSFYKrQGz",
        "1m2AnWB9rWHr",
        "Vso8SeEmrbIF",
        "QimzcsnIsarB",
        "QCCxWc03sLly",
        "-zZeQ-gDqzJF",
        "1-qcr4gvr0QX",
        "lT0RJ46Ur3o0",
        "c0rjkCZfr8gJ",
        "7nwBQiqhsBZk",
        "ctb4hE4Prqd_",
        "FgwE-gF1rlkh",
        "ysM_wkd0_R-r"
      ],
      "gpuType": "T4"
    },
    "kernelspec": {
      "display_name": "Python 3",
      "name": "python3"
    },
    "language_info": {
      "name": "python"
    },
    "accelerator": "GPU"
  },
  "nbformat": 4,
  "nbformat_minor": 0
}